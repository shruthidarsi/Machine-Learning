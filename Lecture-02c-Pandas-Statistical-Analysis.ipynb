{
 "cells": [
  {
   "cell_type": "markdown",
   "metadata": {},
   "source": [
    "Pandas\n",
    "======\n",
    "\n",
    "Pandas (Python Data Analysis Library)is another a Python library whose purpose is to allow one to do statistical data analysis easily in Python.  Pandas adds a new fundamental data type, the DataFrame to the Python language.  The DataFrame is inspired by the same data type from the R statistical analysis programming envrionment.  DataFrames give us easy ways to load and massage a large data set of values.  The rest of the Pandas library adds methods to do various complex statistical analysis on the data.  Pandas is inspired by, and meant to replace functions\n",
    "one would do in R with pure Python.  Though a relatively new library, Pandas has quickly matured.  It still does not cover some of the more complex analysis you could do with R, but for many people it will have everything they need already.  Plus it is written in Python to boot, meaning one can avoid the somewhat unintuitive implementation that R provides.  Pandas is also being designed with an eye towards computational performance.  It is already as good, if not often better than R performance wise on very large data sets.\n",
    "\n",
    "References\n",
    "----------\n",
    "\n",
    "* [Pandas web site](http://pandas.pydata.org/)\n",
    "* [Python for Data Analysis](http://www.amazon.com/Python-Data-Analysis-Wes-McKinney/dp/1449319793/ref=sr_1_1?ie=UTF8&qid=1377800910&sr=8-1&keywords=python+for+data+analysis) by Wes McKinney, 2012. (developer of Pandas) "
   ]
  },
  {
   "cell_type": "code",
   "execution_count": 1,
   "metadata": {
    "ExecuteTime": {
     "end_time": "2018-08-23T17:13:47.382586Z",
     "start_time": "2018-08-23T17:13:46.701054Z"
    }
   },
   "outputs": [],
   "source": [
    "import numpy as np\n",
    "import pandas as pd"
   ]
  },
  {
   "cell_type": "markdown",
   "metadata": {},
   "source": [
    "Important Features in pandas\n",
    "============================\n",
    "\n",
    "Loading Data from delimited text files\n",
    "--------------------------------------\n",
    "\n",
    "A simple yet very common data format used by scientists are plain text files, with a delimiter of some kind between each data item.  This basically arranges the data as a table.  By convention, each row of the table represents one observation, or data point.  And each column of the table represents a feature or dimension that was measured or observed.  A common delimiter between each feature is to use a comma ',', though you will see files that use a blank space ' ', a tab '\\\\t' or sometimes something else to delimit fields.  Pandas allows you to easily load even very large plain text delimited files for analysls.\n",
    "\n",
    "Here is an example of a comma separated data file (from [Luis Zaman's](http://research.luiszaman.com/) digital parasite data set):"
   ]
  },
  {
   "cell_type": "code",
   "execution_count": 2,
   "metadata": {
    "ExecuteTime": {
     "end_time": "2018-08-23T17:13:47.498126Z",
     "start_time": "2018-08-23T17:13:47.384794Z"
    }
   },
   "outputs": [
    {
     "name": "stdout",
     "output_type": "stream",
     "text": [
      "Virulence,Replicate,ShannonDiversity\r\n",
      "0.5,1,0.0592619\r\n",
      "0.5,2,1.0936\r\n",
      "0.5,3,1.13939\r\n",
      "0.5,4,0.547651\r\n",
      "0.5,5,0.0659277\r\n",
      "0.5,6,1.34433\r\n",
      "0.5,7,1.68048\r\n",
      "0.5,8,0\r\n",
      "0.5,9,2.04768\r\n"
     ]
    }
   ],
   "source": [
    "!head data/parasite_data.csv"
   ]
  },
  {
   "cell_type": "code",
   "execution_count": 3,
   "metadata": {
    "ExecuteTime": {
     "end_time": "2018-08-23T17:13:47.611394Z",
     "start_time": "2018-08-23T17:13:47.500403Z"
    }
   },
   "outputs": [
    {
     "name": "stdout",
     "output_type": "stream",
     "text": [
      " ,41,0\r\n",
      " ,42,0\r\n",
      " ,43,0\r\n",
      " ,44,0\r\n",
      " ,45,0.391061\r\n",
      " ,46,0.00166884\r\n",
      " ,47,0\r\n",
      " ,48,0.444463\r\n",
      " ,49,0.383512\r\n",
      " ,50,0.511329"
     ]
    }
   ],
   "source": [
    "!tail data/parasite_data.csv"
   ]
  },
  {
   "cell_type": "markdown",
   "metadata": {},
   "source": [
    "Notice that some of the rows at the end have a blank space in the first column.  We will pass pandas a parameter to tell it how to treat these values."
   ]
  },
  {
   "cell_type": "code",
   "execution_count": 4,
   "metadata": {
    "ExecuteTime": {
     "end_time": "2018-08-23T17:13:47.618680Z",
     "start_time": "2018-08-23T17:13:47.613794Z"
    }
   },
   "outputs": [],
   "source": [
    "exp_df = pd.read_csv(\"data/parasite_data.csv\", na_values=[\" \"])"
   ]
  },
  {
   "cell_type": "code",
   "execution_count": 5,
   "metadata": {
    "ExecuteTime": {
     "end_time": "2018-08-23T17:13:47.714828Z",
     "start_time": "2018-08-23T17:13:47.620685Z"
    }
   },
   "outputs": [
    {
     "name": "stdout",
     "output_type": "stream",
     "text": [
      "     Virulence  Replicate  ShannonDiversity\n",
      "0          0.5          1          0.059262\n",
      "1          0.5          2          1.093600\n",
      "2          0.5          3          1.139390\n",
      "3          0.5          4          0.547651\n",
      "4          0.5          5          0.065928\n",
      "..         ...        ...               ...\n",
      "345        NaN         46          0.001669\n",
      "346        NaN         47          0.000000\n",
      "347        NaN         48          0.444463\n",
      "348        NaN         49          0.383512\n",
      "349        NaN         50          0.511329\n",
      "\n",
      "[350 rows x 3 columns]\n"
     ]
    }
   ],
   "source": [
    "print(exp_df)"
   ]
  },
  {
   "cell_type": "markdown",
   "metadata": {},
   "source": [
    "Notice that pandas automatically names the column features, using the 1st line from the data file (known as the header).  Notice also that the first feature, Virulance, is missing 50 values (it had 300 non-null values, while the other features had 350 values."
   ]
  },
  {
   "cell_type": "markdown",
   "metadata": {},
   "source": [
    "Accessing data in pandas DataFrames\n",
    "-----------------------------------\n",
    "\n",
    "We can directly access any column and row by indexing the DataFrame (kinda like a dictionary):"
   ]
  },
  {
   "cell_type": "code",
   "execution_count": 6,
   "metadata": {
    "ExecuteTime": {
     "end_time": "2018-08-23T17:13:47.802500Z",
     "start_time": "2018-08-23T17:13:47.716685Z"
    }
   },
   "outputs": [
    {
     "name": "stdout",
     "output_type": "stream",
     "text": [
      "0      0.5\n",
      "1      0.5\n",
      "2      0.5\n",
      "3      0.5\n",
      "4      0.5\n",
      "      ... \n",
      "345    NaN\n",
      "346    NaN\n",
      "347    NaN\n",
      "348    NaN\n",
      "349    NaN\n",
      "Name: Virulence, Length: 350, dtype: float64\n"
     ]
    }
   ],
   "source": [
    "print(exp_df['Virulence'])"
   ]
  },
  {
   "cell_type": "code",
   "execution_count": 7,
   "metadata": {
    "ExecuteTime": {
     "end_time": "2018-08-23T17:13:47.897790Z",
     "start_time": "2018-08-23T17:13:47.804214Z"
    }
   },
   "outputs": [
    {
     "name": "stdout",
     "output_type": "stream",
     "text": [
      "1.58981\n"
     ]
    }
   ],
   "source": [
    "print(exp_df['ShannonDiversity'][12])"
   ]
  },
  {
   "cell_type": "markdown",
   "metadata": {},
   "source": [
    "We can also access all of the values in a column meeting a certain criteria:"
   ]
  },
  {
   "cell_type": "code",
   "execution_count": 8,
   "metadata": {
    "ExecuteTime": {
     "end_time": "2018-08-23T17:13:47.995957Z",
     "start_time": "2018-08-23T17:13:47.899738Z"
    }
   },
   "outputs": [
    {
     "name": "stdout",
     "output_type": "stream",
     "text": [
      "     Virulence  Replicate  ShannonDiversity\n",
      "8          0.5          9           2.04768\n",
      "89         0.6         40           2.01066\n",
      "92         0.6         43           2.90081\n",
      "96         0.6         47           2.02915\n",
      "105        0.7          6           2.23427\n",
      "117        0.7         18           2.14296\n",
      "127        0.7         28           2.23599\n",
      "129        0.7         30           2.48422\n",
      "133        0.7         34           2.18506\n",
      "134        0.7         35           2.42177\n",
      "139        0.7         40           2.25737\n",
      "142        0.7         43           2.07258\n",
      "148        0.7         49           2.38326\n",
      "151        0.8          2           2.07970\n",
      "153        0.8          4           2.38474\n",
      "163        0.8         14           2.03252\n",
      "165        0.8         16           2.38415\n",
      "170        0.8         21           2.02297\n",
      "172        0.8         23           2.13882\n",
      "173        0.8         24           2.53339\n",
      "182        0.8         33           2.17865\n",
      "196        0.8         47           2.07718\n",
      "208        0.9          9           2.12240\n",
      "209        0.9         10           2.46144\n",
      "212        0.9         13           2.20476\n",
      "229        0.9         30           2.28026\n",
      "235        0.9         36           2.19565\n",
      "237        0.9         38           2.16535\n",
      "243        0.9         44           2.17578\n",
      "251        1.0          2           2.16044\n"
     ]
    }
   ],
   "source": [
    "print(exp_df[exp_df['ShannonDiversity'] > 2.0])"
   ]
  },
  {
   "cell_type": "markdown",
   "metadata": {},
   "source": [
    "NumPy use of pandas DataFrame data\n",
    "----------------------------------\n",
    "\n",
    "Another powerful feature of the pandas DataFrame is that they are fully integrated with NumPy.  "
   ]
  },
  {
   "cell_type": "code",
   "execution_count": 9,
   "metadata": {
    "ExecuteTime": {
     "end_time": "2018-08-23T17:13:48.099970Z",
     "start_time": "2018-08-23T17:13:47.997988Z"
    }
   },
   "outputs": [
    {
     "data": {
      "text/plain": [
       "array([0.00000e+00, 0.00000e+00, 0.00000e+00, 0.00000e+00, 0.00000e+00,\n",
       "       0.00000e+00, 0.00000e+00, 0.00000e+00, 0.00000e+00, 0.00000e+00,\n",
       "       0.00000e+00, 0.00000e+00, 0.00000e+00, 0.00000e+00, 0.00000e+00,\n",
       "       0.00000e+00, 0.00000e+00, 0.00000e+00, 0.00000e+00, 0.00000e+00,\n",
       "       0.00000e+00, 0.00000e+00, 0.00000e+00, 0.00000e+00, 0.00000e+00,\n",
       "       0.00000e+00, 0.00000e+00, 0.00000e+00, 0.00000e+00, 0.00000e+00,\n",
       "       0.00000e+00, 0.00000e+00, 0.00000e+00, 0.00000e+00, 0.00000e+00,\n",
       "       0.00000e+00, 0.00000e+00, 0.00000e+00, 0.00000e+00, 0.00000e+00,\n",
       "       0.00000e+00, 0.00000e+00, 0.00000e+00, 0.00000e+00, 0.00000e+00,\n",
       "       0.00000e+00, 0.00000e+00, 0.00000e+00, 0.00000e+00, 0.00000e+00,\n",
       "       0.00000e+00, 0.00000e+00, 0.00000e+00, 0.00000e+00, 0.00000e+00,\n",
       "       0.00000e+00, 0.00000e+00, 0.00000e+00, 0.00000e+00, 0.00000e+00,\n",
       "       0.00000e+00, 0.00000e+00, 0.00000e+00, 0.00000e+00, 0.00000e+00,\n",
       "       0.00000e+00, 0.00000e+00, 0.00000e+00, 0.00000e+00, 0.00000e+00,\n",
       "       0.00000e+00, 0.00000e+00, 0.00000e+00, 0.00000e+00, 0.00000e+00,\n",
       "       0.00000e+00, 0.00000e+00, 0.00000e+00, 0.00000e+00, 0.00000e+00,\n",
       "       0.00000e+00, 0.00000e+00, 0.00000e+00, 0.00000e+00, 0.00000e+00,\n",
       "       0.00000e+00, 0.00000e+00, 0.00000e+00, 0.00000e+00, 0.00000e+00,\n",
       "       0.00000e+00, 0.00000e+00, 0.00000e+00, 0.00000e+00, 0.00000e+00,\n",
       "       0.00000e+00, 0.00000e+00, 0.00000e+00, 0.00000e+00, 1.66884e-03,\n",
       "       1.74899e-03, 3.48978e-03, 5.80162e-03, 5.96288e-03, 6.37735e-03,\n",
       "       6.98024e-03, 8.29361e-03, 1.34949e-02, 1.88665e-02, 2.10908e-02,\n",
       "       4.54712e-02, 5.23720e-02, 5.68192e-02, 5.91347e-02, 5.92619e-02,\n",
       "       6.14139e-02, 6.59277e-02, 1.15830e-01, 1.24755e-01, 1.34478e-01,\n",
       "       1.59017e-01, 1.69556e-01, 1.86966e-01, 2.40084e-01, 2.69136e-01,\n",
       "       2.71429e-01, 2.88455e-01, 2.93153e-01, 2.96054e-01, 3.10170e-01,\n",
       "       3.16439e-01, 3.21375e-01, 3.41714e-01, 3.43235e-01, 3.45177e-01,\n",
       "       3.48283e-01, 3.74074e-01, 3.83512e-01, 3.91061e-01, 3.92939e-01,\n",
       "       4.16046e-01, 4.21927e-01, 4.44463e-01, 4.45267e-01, 4.57318e-01,\n",
       "       4.60192e-01, 5.11329e-01, 5.19065e-01, 5.47157e-01, 5.47651e-01,\n",
       "       5.51367e-01, 5.68674e-01, 5.84252e-01, 5.97295e-01, 6.14147e-01,\n",
       "       6.17618e-01, 6.44337e-01, 6.55764e-01, 6.69810e-01, 6.87150e-01,\n",
       "       6.93356e-01, 6.97241e-01, 7.13224e-01, 7.16393e-01, 7.19755e-01,\n",
       "       7.21134e-01, 7.38403e-01, 7.57638e-01, 7.64003e-01, 7.76665e-01,\n",
       "       7.87591e-01, 7.90915e-01, 8.12238e-01, 8.20405e-01, 8.33645e-01,\n",
       "       8.57742e-01, 8.75816e-01, 8.82519e-01, 8.84122e-01, 8.87569e-01,\n",
       "       8.90169e-01, 8.92139e-01, 8.92717e-01, 9.04773e-01, 9.09254e-01,\n",
       "       9.25913e-01, 9.32470e-01, 9.35883e-01, 9.38018e-01, 9.48393e-01,\n",
       "       9.49750e-01, 9.54747e-01, 9.57757e-01, 9.58280e-01, 9.60891e-01,\n",
       "       9.60912e-01, 9.67537e-01, 9.68258e-01, 9.69003e-01, 9.71351e-01,\n",
       "       9.79254e-01, 9.80076e-01, 9.80876e-01, 9.86830e-01, 9.90309e-01,\n",
       "       9.90460e-01, 9.92335e-01, 9.92525e-01, 9.94268e-01, 9.95956e-01,\n",
       "       9.97556e-01, 9.98377e-01, 9.98564e-01, 9.99456e-01, 9.99556e-01,\n",
       "       9.99703e-01, 9.99802e-01, 1.00134e+00, 1.00348e+00, 1.00485e+00,\n",
       "       1.00513e+00, 1.00697e+00, 1.01119e+00, 1.01170e+00, 1.02233e+00,\n",
       "       1.03500e+00, 1.03693e+00, 1.04260e+00, 1.07258e+00, 1.08938e+00,\n",
       "       1.09360e+00, 1.09448e+00, 1.11849e+00, 1.12732e+00, 1.13910e+00,\n",
       "       1.13939e+00, 1.14480e+00, 1.15291e+00, 1.15410e+00, 1.15516e+00,\n",
       "       1.17992e+00, 1.18013e+00, 1.19045e+00, 1.21234e+00, 1.23889e+00,\n",
       "       1.26228e+00, 1.27023e+00, 1.28415e+00, 1.29282e+00, 1.32344e+00,\n",
       "       1.32732e+00, 1.34433e+00, 1.35093e+00, 1.39485e+00, 1.41973e+00,\n",
       "       1.42847e+00, 1.43380e+00, 1.49551e+00, 1.50664e+00, 1.50714e+00,\n",
       "       1.51456e+00, 1.52632e+00, 1.53615e+00, 1.55725e+00, 1.56022e+00,\n",
       "       1.56433e+00, 1.56641e+00, 1.56984e+00, 1.57031e+00, 1.57826e+00,\n",
       "       1.58125e+00, 1.58325e+00, 1.58390e+00, 1.58430e+00, 1.58458e+00,\n",
       "       1.58981e+00, 1.59544e+00, 1.63300e+00, 1.65168e+00, 1.66055e+00,\n",
       "       1.68048e+00, 1.69960e+00, 1.70044e+00, 1.70272e+00, 1.71120e+00,\n",
       "       1.71595e+00, 1.72521e+00, 1.72962e+00, 1.73888e+00, 1.74604e+00,\n",
       "       1.76120e+00, 1.76133e+00, 1.78104e+00, 1.78771e+00, 1.79058e+00,\n",
       "       1.79258e+00, 1.81450e+00, 1.82014e+00, 1.82487e+00, 1.83399e+00,\n",
       "       1.83625e+00, 1.85485e+00, 1.85963e+00, 1.87038e+00, 1.87913e+00,\n",
       "       1.88554e+00, 1.89840e+00, 1.90202e+00, 1.92080e+00, 1.92279e+00,\n",
       "       1.93562e+00, 1.93793e+00, 1.95026e+00, 1.95902e+00, 1.96167e+00,\n",
       "       1.97176e+00, 1.97185e+00, 1.98001e+00, 1.98161e+00, 1.99090e+00,\n",
       "       2.01066e+00, 2.02297e+00, 2.02915e+00, 2.03252e+00, 2.04768e+00,\n",
       "       2.07258e+00, 2.07718e+00, 2.07970e+00, 2.12240e+00, 2.13882e+00,\n",
       "       2.14296e+00, 2.16044e+00, 2.16535e+00, 2.17578e+00, 2.17865e+00,\n",
       "       2.18506e+00, 2.19565e+00, 2.20476e+00, 2.23427e+00, 2.23599e+00,\n",
       "       2.25737e+00, 2.28026e+00, 2.38326e+00, 2.38415e+00, 2.38474e+00,\n",
       "       2.42177e+00, 2.46144e+00, 2.48422e+00, 2.53339e+00, 2.90081e+00])"
      ]
     },
     "execution_count": 9,
     "metadata": {},
     "output_type": "execute_result"
    }
   ],
   "source": [
    "np.sort(exp_df['ShannonDiversity'])"
   ]
  },
  {
   "cell_type": "markdown",
   "metadata": {},
   "source": [
    "Blank/Omitted data\n",
    "==================\n",
    "\n",
    "One of the toughest preprocessing steps that is needed in analyzing a real data step is trying to identify and figure out how to handle missing data.  Pandas gives great support for identifying and specifying how to handle these missing values."
   ]
  },
  {
   "cell_type": "code",
   "execution_count": 10,
   "metadata": {
    "ExecuteTime": {
     "end_time": "2018-08-23T17:13:48.197139Z",
     "start_time": "2018-08-23T17:13:48.101581Z"
    }
   },
   "outputs": [
    {
     "name": "stdout",
     "output_type": "stream",
     "text": [
      "     Virulence  Replicate  ShannonDiversity\n",
      "300        NaN          1          0.000000\n",
      "301        NaN          2          0.000000\n",
      "302        NaN          3          0.833645\n",
      "303        NaN          4          0.000000\n",
      "304        NaN          5          0.990309\n",
      "305        NaN          6          0.000000\n",
      "306        NaN          7          0.000000\n",
      "307        NaN          8          0.000000\n",
      "308        NaN          9          0.061414\n",
      "309        NaN         10          0.316439\n",
      "310        NaN         11          0.904773\n",
      "311        NaN         12          0.884122\n",
      "312        NaN         13          0.000000\n",
      "313        NaN         14          0.000000\n",
      "314        NaN         15          0.000000\n",
      "315        NaN         16          0.000000\n",
      "316        NaN         17          0.013495\n",
      "317        NaN         18          0.882519\n",
      "318        NaN         19          0.000000\n",
      "319        NaN         20          0.986830\n",
      "320        NaN         21          0.000000\n",
      "321        NaN         22          0.000000\n",
      "322        NaN         23          0.000000\n",
      "323        NaN         24          0.000000\n",
      "324        NaN         25          0.000000\n",
      "325        NaN         26          0.000000\n",
      "326        NaN         27          1.702720\n",
      "327        NaN         28          0.169556\n",
      "328        NaN         29          0.949750\n",
      "329        NaN         30          0.240084\n",
      "330        NaN         31          0.925913\n",
      "331        NaN         32          0.000000\n",
      "332        NaN         33          0.693356\n",
      "333        NaN         34          0.000000\n",
      "334        NaN         35          0.310170\n",
      "335        NaN         36          0.000000\n",
      "336        NaN         37          0.000000\n",
      "337        NaN         38          0.000000\n",
      "338        NaN         39          0.000000\n",
      "339        NaN         40          0.000000\n",
      "340        NaN         41          0.000000\n",
      "341        NaN         42          0.000000\n",
      "342        NaN         43          0.000000\n",
      "343        NaN         44          0.000000\n",
      "344        NaN         45          0.391061\n",
      "345        NaN         46          0.001669\n",
      "346        NaN         47          0.000000\n",
      "347        NaN         48          0.444463\n",
      "348        NaN         49          0.383512\n",
      "349        NaN         50          0.511329\n"
     ]
    }
   ],
   "source": [
    "print(exp_df[np.isnan(exp_df['Virulence'])])"
   ]
  },
  {
   "cell_type": "markdown",
   "metadata": {},
   "source": [
    "DataFrame methods automatically ignore NA/NaN values (which is usually the right thing to do)."
   ]
  },
  {
   "cell_type": "code",
   "execution_count": 11,
   "metadata": {
    "ExecuteTime": {
     "end_time": "2018-08-23T17:13:48.283591Z",
     "start_time": "2018-08-23T17:13:48.198977Z"
    }
   },
   "outputs": [
    {
     "name": "stdout",
     "output_type": "stream",
     "text": [
      "Mean virulence across all treatments: 0.7500000000000013\n"
     ]
    }
   ],
   "source": [
    "print(\"Mean virulence across all treatments:\", exp_df['Virulence'].mean())"
   ]
  },
  {
   "cell_type": "markdown",
   "metadata": {},
   "source": [
    "Although we can filter out NA/NaN values if we need to, to for example pass to other libraries that don't handle these so well.  Notice that the following has dropped those 50 rows that had null Virulence values."
   ]
  },
  {
   "cell_type": "code",
   "execution_count": 12,
   "metadata": {
    "ExecuteTime": {
     "end_time": "2018-08-23T17:13:48.384438Z",
     "start_time": "2018-08-23T17:13:48.285262Z"
    }
   },
   "outputs": [
    {
     "name": "stdout",
     "output_type": "stream",
     "text": [
      "     Virulence  Replicate  ShannonDiversity\n",
      "0          0.5          1          0.059262\n",
      "1          0.5          2          1.093600\n",
      "2          0.5          3          1.139390\n",
      "3          0.5          4          0.547651\n",
      "4          0.5          5          0.065928\n",
      "..         ...        ...               ...\n",
      "295        1.0         46          0.644337\n",
      "296        1.0         47          0.875816\n",
      "297        1.0         48          0.000000\n",
      "298        1.0         49          0.000000\n",
      "299        1.0         50          0.000000\n",
      "\n",
      "[300 rows x 3 columns]\n"
     ]
    }
   ],
   "source": [
    "print(exp_df.dropna())"
   ]
  },
  {
   "cell_type": "markdown",
   "metadata": {},
   "source": [
    "Or if needed, we can instead replace all NA/NaN entries with a valid (default) value."
   ]
  },
  {
   "cell_type": "code",
   "execution_count": 13,
   "metadata": {
    "ExecuteTime": {
     "end_time": "2018-08-23T17:13:48.474861Z",
     "start_time": "2018-08-23T17:13:48.386199Z"
    }
   },
   "outputs": [
    {
     "name": "stdout",
     "output_type": "stream",
     "text": [
      "0      0.5\n",
      "1      0.5\n",
      "2      0.5\n",
      "3      0.5\n",
      "4      0.5\n",
      "      ... \n",
      "345    0.0\n",
      "346    0.0\n",
      "347    0.0\n",
      "348    0.0\n",
      "349    0.0\n",
      "Name: Virulence, Length: 350, dtype: float64\n"
     ]
    }
   ],
   "source": [
    "print(exp_df.fillna(0.0)['Virulence'])"
   ]
  },
  {
   "cell_type": "markdown",
   "metadata": {},
   "source": [
    "Some Simple Summary Statistics with Pandas\n",
    "------------------------------------------\n",
    "\n",
    "Lets look at some very simple summary statistics with pandas.  Conveniently DataFrames have all kinds of built-in functions to perform standard operations on them en masse: add() sub() mul() div() mean() std() etc."
   ]
  },
  {
   "cell_type": "code",
   "execution_count": 14,
   "metadata": {
    "ExecuteTime": {
     "end_time": "2018-08-23T17:13:48.574073Z",
     "start_time": "2018-08-23T17:13:48.476513Z"
    }
   },
   "outputs": [
    {
     "name": "stdout",
     "output_type": "stream",
     "text": [
      "Mean Shannon Diversity w/ 0.8 Parasite Virulence =  1.2691338187999996\n",
      "Variance Shannon Diversity w/ 0.8 Parasite Virulence =  0.6110384333126732\n"
     ]
    }
   ],
   "source": [
    "print(\"Mean Shannon Diversity w/ 0.8 Parasite Virulence = \", exp_df[exp_df['Virulence'] == 0.8]['ShannonDiversity'].mean())\n",
    "print(\"Variance Shannon Diversity w/ 0.8 Parasite Virulence = \", exp_df[exp_df['Virulence'] == 0.8]['ShannonDiversity'].var())"
   ]
  },
  {
   "cell_type": "markdown",
   "metadata": {},
   "source": [
    "Some More Examples\n",
    "------------------\n",
    "\n",
    "The following are more examples of how you can manipulate pandas DataFrames (taken from the pandas [10-minute tutorial](http://pandas.pydata.org/pandas-docs/stable/10min.html))"
   ]
  },
  {
   "cell_type": "code",
   "execution_count": 15,
   "metadata": {
    "ExecuteTime": {
     "end_time": "2018-08-23T17:13:48.671027Z",
     "start_time": "2018-08-23T17:13:48.575794Z"
    }
   },
   "outputs": [
    {
     "name": "stdout",
     "output_type": "stream",
     "text": [
      "DatetimeIndex(['2013-01-01', '2013-01-02', '2013-01-03', '2013-01-04',\n",
      "               '2013-01-05', '2013-01-06'],\n",
      "              dtype='datetime64[ns]', freq='D')\n",
      "                   A         B         C         D\n",
      "2013-01-01 -0.361172  1.809067 -0.520126 -0.584595\n",
      "2013-01-02 -1.275041 -1.014947  0.322499 -0.121134\n",
      "2013-01-03  0.890945  0.568694  0.228494  0.410192\n",
      "2013-01-04 -2.070422  0.265733 -0.636263 -0.057367\n",
      "2013-01-05 -0.518790 -0.548848 -1.373859  0.311020\n",
      "2013-01-06 -1.192410 -1.744496  0.922961  0.397199\n"
     ]
    }
   ],
   "source": [
    "dates = pd.date_range('20130101', periods=6)\n",
    "print(dates)\n",
    "df = pd.DataFrame(np.random.randn(6,4), index=dates, columns=list('ABCD'))\n",
    "print(df)"
   ]
  },
  {
   "cell_type": "code",
   "execution_count": 16,
   "metadata": {
    "ExecuteTime": {
     "end_time": "2018-08-23T17:13:48.777878Z",
     "start_time": "2018-08-23T17:13:48.672903Z"
    }
   },
   "outputs": [
    {
     "data": {
      "text/html": [
       "<div>\n",
       "<style scoped>\n",
       "    .dataframe tbody tr th:only-of-type {\n",
       "        vertical-align: middle;\n",
       "    }\n",
       "\n",
       "    .dataframe tbody tr th {\n",
       "        vertical-align: top;\n",
       "    }\n",
       "\n",
       "    .dataframe thead th {\n",
       "        text-align: right;\n",
       "    }\n",
       "</style>\n",
       "<table border=\"1\" class=\"dataframe\">\n",
       "  <thead>\n",
       "    <tr style=\"text-align: right;\">\n",
       "      <th></th>\n",
       "      <th>A</th>\n",
       "      <th>B</th>\n",
       "      <th>C</th>\n",
       "      <th>D</th>\n",
       "      <th>E</th>\n",
       "    </tr>\n",
       "  </thead>\n",
       "  <tbody>\n",
       "    <tr>\n",
       "      <td>0</td>\n",
       "      <td>1.0</td>\n",
       "      <td>2013-01-02</td>\n",
       "      <td>1.0</td>\n",
       "      <td>3</td>\n",
       "      <td>foo</td>\n",
       "    </tr>\n",
       "    <tr>\n",
       "      <td>1</td>\n",
       "      <td>1.0</td>\n",
       "      <td>2013-01-02</td>\n",
       "      <td>1.0</td>\n",
       "      <td>3</td>\n",
       "      <td>foo</td>\n",
       "    </tr>\n",
       "    <tr>\n",
       "      <td>2</td>\n",
       "      <td>1.0</td>\n",
       "      <td>2013-01-02</td>\n",
       "      <td>1.0</td>\n",
       "      <td>3</td>\n",
       "      <td>foo</td>\n",
       "    </tr>\n",
       "    <tr>\n",
       "      <td>3</td>\n",
       "      <td>1.0</td>\n",
       "      <td>2013-01-02</td>\n",
       "      <td>1.0</td>\n",
       "      <td>3</td>\n",
       "      <td>foo</td>\n",
       "    </tr>\n",
       "  </tbody>\n",
       "</table>\n",
       "</div>"
      ],
      "text/plain": [
       "     A          B    C  D    E\n",
       "0  1.0 2013-01-02  1.0  3  foo\n",
       "1  1.0 2013-01-02  1.0  3  foo\n",
       "2  1.0 2013-01-02  1.0  3  foo\n",
       "3  1.0 2013-01-02  1.0  3  foo"
      ]
     },
     "execution_count": 16,
     "metadata": {},
     "output_type": "execute_result"
    }
   ],
   "source": [
    "df2 = pd.DataFrame({'A': 1.0,\n",
    "                    'B': pd.Timestamp('20130102'),\n",
    "                    'C': pd.Series(1, index=range(4), dtype='float32'),\n",
    "                    'D': np.array([3] * 4, dtype='int32'),\n",
    "                    'E': 'foo'})\n",
    "df2"
   ]
  },
  {
   "cell_type": "code",
   "execution_count": 17,
   "metadata": {
    "ExecuteTime": {
     "end_time": "2018-08-23T17:13:48.901946Z",
     "start_time": "2018-08-23T17:13:48.779665Z"
    }
   },
   "outputs": [
    {
     "data": {
      "text/plain": [
       "A           float64\n",
       "B    datetime64[ns]\n",
       "C           float32\n",
       "D             int32\n",
       "E            object\n",
       "dtype: object"
      ]
     },
     "execution_count": 17,
     "metadata": {},
     "output_type": "execute_result"
    }
   ],
   "source": [
    "df2.dtypes"
   ]
  },
  {
   "cell_type": "code",
   "execution_count": 18,
   "metadata": {
    "ExecuteTime": {
     "end_time": "2018-08-23T17:13:48.992788Z",
     "start_time": "2018-08-23T17:13:48.903511Z"
    }
   },
   "outputs": [
    {
     "data": {
      "text/html": [
       "<div>\n",
       "<style scoped>\n",
       "    .dataframe tbody tr th:only-of-type {\n",
       "        vertical-align: middle;\n",
       "    }\n",
       "\n",
       "    .dataframe tbody tr th {\n",
       "        vertical-align: top;\n",
       "    }\n",
       "\n",
       "    .dataframe thead th {\n",
       "        text-align: right;\n",
       "    }\n",
       "</style>\n",
       "<table border=\"1\" class=\"dataframe\">\n",
       "  <thead>\n",
       "    <tr style=\"text-align: right;\">\n",
       "      <th></th>\n",
       "      <th>A</th>\n",
       "      <th>B</th>\n",
       "      <th>C</th>\n",
       "      <th>D</th>\n",
       "    </tr>\n",
       "  </thead>\n",
       "  <tbody>\n",
       "    <tr>\n",
       "      <td>2013-01-01</td>\n",
       "      <td>-0.361172</td>\n",
       "      <td>1.809067</td>\n",
       "      <td>-0.520126</td>\n",
       "      <td>-0.584595</td>\n",
       "    </tr>\n",
       "    <tr>\n",
       "      <td>2013-01-02</td>\n",
       "      <td>-1.275041</td>\n",
       "      <td>-1.014947</td>\n",
       "      <td>0.322499</td>\n",
       "      <td>-0.121134</td>\n",
       "    </tr>\n",
       "    <tr>\n",
       "      <td>2013-01-03</td>\n",
       "      <td>0.890945</td>\n",
       "      <td>0.568694</td>\n",
       "      <td>0.228494</td>\n",
       "      <td>0.410192</td>\n",
       "    </tr>\n",
       "    <tr>\n",
       "      <td>2013-01-04</td>\n",
       "      <td>-2.070422</td>\n",
       "      <td>0.265733</td>\n",
       "      <td>-0.636263</td>\n",
       "      <td>-0.057367</td>\n",
       "    </tr>\n",
       "    <tr>\n",
       "      <td>2013-01-05</td>\n",
       "      <td>-0.518790</td>\n",
       "      <td>-0.548848</td>\n",
       "      <td>-1.373859</td>\n",
       "      <td>0.311020</td>\n",
       "    </tr>\n",
       "  </tbody>\n",
       "</table>\n",
       "</div>"
      ],
      "text/plain": [
       "                   A         B         C         D\n",
       "2013-01-01 -0.361172  1.809067 -0.520126 -0.584595\n",
       "2013-01-02 -1.275041 -1.014947  0.322499 -0.121134\n",
       "2013-01-03  0.890945  0.568694  0.228494  0.410192\n",
       "2013-01-04 -2.070422  0.265733 -0.636263 -0.057367\n",
       "2013-01-05 -0.518790 -0.548848 -1.373859  0.311020"
      ]
     },
     "execution_count": 18,
     "metadata": {},
     "output_type": "execute_result"
    }
   ],
   "source": [
    "df.head()"
   ]
  },
  {
   "cell_type": "code",
   "execution_count": 19,
   "metadata": {
    "ExecuteTime": {
     "end_time": "2018-08-23T17:13:49.092096Z",
     "start_time": "2018-08-23T17:13:48.994460Z"
    }
   },
   "outputs": [
    {
     "data": {
      "text/html": [
       "<div>\n",
       "<style scoped>\n",
       "    .dataframe tbody tr th:only-of-type {\n",
       "        vertical-align: middle;\n",
       "    }\n",
       "\n",
       "    .dataframe tbody tr th {\n",
       "        vertical-align: top;\n",
       "    }\n",
       "\n",
       "    .dataframe thead th {\n",
       "        text-align: right;\n",
       "    }\n",
       "</style>\n",
       "<table border=\"1\" class=\"dataframe\">\n",
       "  <thead>\n",
       "    <tr style=\"text-align: right;\">\n",
       "      <th></th>\n",
       "      <th>A</th>\n",
       "      <th>B</th>\n",
       "      <th>C</th>\n",
       "      <th>D</th>\n",
       "    </tr>\n",
       "  </thead>\n",
       "  <tbody>\n",
       "    <tr>\n",
       "      <td>2013-01-04</td>\n",
       "      <td>-2.070422</td>\n",
       "      <td>0.265733</td>\n",
       "      <td>-0.636263</td>\n",
       "      <td>-0.057367</td>\n",
       "    </tr>\n",
       "    <tr>\n",
       "      <td>2013-01-05</td>\n",
       "      <td>-0.518790</td>\n",
       "      <td>-0.548848</td>\n",
       "      <td>-1.373859</td>\n",
       "      <td>0.311020</td>\n",
       "    </tr>\n",
       "    <tr>\n",
       "      <td>2013-01-06</td>\n",
       "      <td>-1.192410</td>\n",
       "      <td>-1.744496</td>\n",
       "      <td>0.922961</td>\n",
       "      <td>0.397199</td>\n",
       "    </tr>\n",
       "  </tbody>\n",
       "</table>\n",
       "</div>"
      ],
      "text/plain": [
       "                   A         B         C         D\n",
       "2013-01-04 -2.070422  0.265733 -0.636263 -0.057367\n",
       "2013-01-05 -0.518790 -0.548848 -1.373859  0.311020\n",
       "2013-01-06 -1.192410 -1.744496  0.922961  0.397199"
      ]
     },
     "execution_count": 19,
     "metadata": {},
     "output_type": "execute_result"
    }
   ],
   "source": [
    "df.tail(3)"
   ]
  },
  {
   "cell_type": "code",
   "execution_count": 20,
   "metadata": {
    "ExecuteTime": {
     "end_time": "2018-08-23T17:13:49.189147Z",
     "start_time": "2018-08-23T17:13:49.093963Z"
    }
   },
   "outputs": [
    {
     "data": {
      "text/plain": [
       "Index(['A', 'B', 'C', 'D'], dtype='object')"
      ]
     },
     "execution_count": 20,
     "metadata": {},
     "output_type": "execute_result"
    }
   ],
   "source": [
    "df.columns"
   ]
  },
  {
   "cell_type": "code",
   "execution_count": 21,
   "metadata": {
    "ExecuteTime": {
     "end_time": "2018-08-23T17:13:49.289661Z",
     "start_time": "2018-08-23T17:13:49.190934Z"
    }
   },
   "outputs": [
    {
     "data": {
      "text/plain": [
       "array([[-0.36117182,  1.80906666, -0.52012609, -0.58459497],\n",
       "       [-1.27504093, -1.01494656,  0.32249904, -0.1211336 ],\n",
       "       [ 0.89094464,  0.56869383,  0.22849447,  0.41019167],\n",
       "       [-2.07042214,  0.26573254, -0.63626277, -0.05736658],\n",
       "       [-0.51879024, -0.54884768, -1.37385857,  0.31101963],\n",
       "       [-1.19240973, -1.74449607,  0.92296145,  0.39719909]])"
      ]
     },
     "execution_count": 21,
     "metadata": {},
     "output_type": "execute_result"
    }
   ],
   "source": [
    "df.values # notice, the easiest way to turn whole pandas DataFrame into a NumPy array with same rows/columns"
   ]
  },
  {
   "cell_type": "markdown",
   "metadata": {},
   "source": [
    "Describe shows a quick statistics summary of your data:"
   ]
  },
  {
   "cell_type": "code",
   "execution_count": 22,
   "metadata": {
    "ExecuteTime": {
     "end_time": "2018-08-23T17:13:49.411871Z",
     "start_time": "2018-08-23T17:13:49.291670Z"
    }
   },
   "outputs": [
    {
     "data": {
      "text/html": [
       "<div>\n",
       "<style scoped>\n",
       "    .dataframe tbody tr th:only-of-type {\n",
       "        vertical-align: middle;\n",
       "    }\n",
       "\n",
       "    .dataframe tbody tr th {\n",
       "        vertical-align: top;\n",
       "    }\n",
       "\n",
       "    .dataframe thead th {\n",
       "        text-align: right;\n",
       "    }\n",
       "</style>\n",
       "<table border=\"1\" class=\"dataframe\">\n",
       "  <thead>\n",
       "    <tr style=\"text-align: right;\">\n",
       "      <th></th>\n",
       "      <th>A</th>\n",
       "      <th>B</th>\n",
       "      <th>C</th>\n",
       "      <th>D</th>\n",
       "    </tr>\n",
       "  </thead>\n",
       "  <tbody>\n",
       "    <tr>\n",
       "      <td>count</td>\n",
       "      <td>6.000000</td>\n",
       "      <td>6.000000</td>\n",
       "      <td>6.000000</td>\n",
       "      <td>6.000000</td>\n",
       "    </tr>\n",
       "    <tr>\n",
       "      <td>mean</td>\n",
       "      <td>-0.754482</td>\n",
       "      <td>-0.110800</td>\n",
       "      <td>-0.176049</td>\n",
       "      <td>0.059219</td>\n",
       "    </tr>\n",
       "    <tr>\n",
       "      <td>std</td>\n",
       "      <td>1.011151</td>\n",
       "      <td>1.262355</td>\n",
       "      <td>0.822796</td>\n",
       "      <td>0.390239</td>\n",
       "    </tr>\n",
       "    <tr>\n",
       "      <td>min</td>\n",
       "      <td>-2.070422</td>\n",
       "      <td>-1.744496</td>\n",
       "      <td>-1.373859</td>\n",
       "      <td>-0.584595</td>\n",
       "    </tr>\n",
       "    <tr>\n",
       "      <td>25%</td>\n",
       "      <td>-1.254383</td>\n",
       "      <td>-0.898422</td>\n",
       "      <td>-0.607229</td>\n",
       "      <td>-0.105192</td>\n",
       "    </tr>\n",
       "    <tr>\n",
       "      <td>50%</td>\n",
       "      <td>-0.855600</td>\n",
       "      <td>-0.141558</td>\n",
       "      <td>-0.145816</td>\n",
       "      <td>0.126827</td>\n",
       "    </tr>\n",
       "    <tr>\n",
       "      <td>75%</td>\n",
       "      <td>-0.400576</td>\n",
       "      <td>0.492954</td>\n",
       "      <td>0.298998</td>\n",
       "      <td>0.375654</td>\n",
       "    </tr>\n",
       "    <tr>\n",
       "      <td>max</td>\n",
       "      <td>0.890945</td>\n",
       "      <td>1.809067</td>\n",
       "      <td>0.922961</td>\n",
       "      <td>0.410192</td>\n",
       "    </tr>\n",
       "  </tbody>\n",
       "</table>\n",
       "</div>"
      ],
      "text/plain": [
       "              A         B         C         D\n",
       "count  6.000000  6.000000  6.000000  6.000000\n",
       "mean  -0.754482 -0.110800 -0.176049  0.059219\n",
       "std    1.011151  1.262355  0.822796  0.390239\n",
       "min   -2.070422 -1.744496 -1.373859 -0.584595\n",
       "25%   -1.254383 -0.898422 -0.607229 -0.105192\n",
       "50%   -0.855600 -0.141558 -0.145816  0.126827\n",
       "75%   -0.400576  0.492954  0.298998  0.375654\n",
       "max    0.890945  1.809067  0.922961  0.410192"
      ]
     },
     "execution_count": 22,
     "metadata": {},
     "output_type": "execute_result"
    }
   ],
   "source": [
    "df.describe()"
   ]
  },
  {
   "cell_type": "markdown",
   "metadata": {},
   "source": [
    "Sort data by values of some column"
   ]
  },
  {
   "cell_type": "code",
   "execution_count": 23,
   "metadata": {
    "ExecuteTime": {
     "end_time": "2018-08-23T17:13:49.506195Z",
     "start_time": "2018-08-23T17:13:49.413995Z"
    }
   },
   "outputs": [
    {
     "data": {
      "text/html": [
       "<div>\n",
       "<style scoped>\n",
       "    .dataframe tbody tr th:only-of-type {\n",
       "        vertical-align: middle;\n",
       "    }\n",
       "\n",
       "    .dataframe tbody tr th {\n",
       "        vertical-align: top;\n",
       "    }\n",
       "\n",
       "    .dataframe thead th {\n",
       "        text-align: right;\n",
       "    }\n",
       "</style>\n",
       "<table border=\"1\" class=\"dataframe\">\n",
       "  <thead>\n",
       "    <tr style=\"text-align: right;\">\n",
       "      <th></th>\n",
       "      <th>A</th>\n",
       "      <th>B</th>\n",
       "      <th>C</th>\n",
       "      <th>D</th>\n",
       "    </tr>\n",
       "  </thead>\n",
       "  <tbody>\n",
       "    <tr>\n",
       "      <td>2013-01-06</td>\n",
       "      <td>-1.192410</td>\n",
       "      <td>-1.744496</td>\n",
       "      <td>0.922961</td>\n",
       "      <td>0.397199</td>\n",
       "    </tr>\n",
       "    <tr>\n",
       "      <td>2013-01-02</td>\n",
       "      <td>-1.275041</td>\n",
       "      <td>-1.014947</td>\n",
       "      <td>0.322499</td>\n",
       "      <td>-0.121134</td>\n",
       "    </tr>\n",
       "    <tr>\n",
       "      <td>2013-01-05</td>\n",
       "      <td>-0.518790</td>\n",
       "      <td>-0.548848</td>\n",
       "      <td>-1.373859</td>\n",
       "      <td>0.311020</td>\n",
       "    </tr>\n",
       "    <tr>\n",
       "      <td>2013-01-04</td>\n",
       "      <td>-2.070422</td>\n",
       "      <td>0.265733</td>\n",
       "      <td>-0.636263</td>\n",
       "      <td>-0.057367</td>\n",
       "    </tr>\n",
       "    <tr>\n",
       "      <td>2013-01-03</td>\n",
       "      <td>0.890945</td>\n",
       "      <td>0.568694</td>\n",
       "      <td>0.228494</td>\n",
       "      <td>0.410192</td>\n",
       "    </tr>\n",
       "    <tr>\n",
       "      <td>2013-01-01</td>\n",
       "      <td>-0.361172</td>\n",
       "      <td>1.809067</td>\n",
       "      <td>-0.520126</td>\n",
       "      <td>-0.584595</td>\n",
       "    </tr>\n",
       "  </tbody>\n",
       "</table>\n",
       "</div>"
      ],
      "text/plain": [
       "                   A         B         C         D\n",
       "2013-01-06 -1.192410 -1.744496  0.922961  0.397199\n",
       "2013-01-02 -1.275041 -1.014947  0.322499 -0.121134\n",
       "2013-01-05 -0.518790 -0.548848 -1.373859  0.311020\n",
       "2013-01-04 -2.070422  0.265733 -0.636263 -0.057367\n",
       "2013-01-03  0.890945  0.568694  0.228494  0.410192\n",
       "2013-01-01 -0.361172  1.809067 -0.520126 -0.584595"
      ]
     },
     "execution_count": 23,
     "metadata": {},
     "output_type": "execute_result"
    }
   ],
   "source": [
    "df.sort_values(by='B')"
   ]
  },
  {
   "cell_type": "markdown",
   "metadata": {},
   "source": [
    "Select a single column, which yields a Series, equivalent to df.A"
   ]
  },
  {
   "cell_type": "code",
   "execution_count": 24,
   "metadata": {
    "ExecuteTime": {
     "end_time": "2018-08-23T17:13:49.616854Z",
     "start_time": "2018-08-23T17:13:49.508117Z"
    }
   },
   "outputs": [
    {
     "data": {
      "text/plain": [
       "2013-01-01   -0.361172\n",
       "2013-01-02   -1.275041\n",
       "2013-01-03    0.890945\n",
       "2013-01-04   -2.070422\n",
       "2013-01-05   -0.518790\n",
       "2013-01-06   -1.192410\n",
       "Freq: D, Name: A, dtype: float64"
      ]
     },
     "execution_count": 24,
     "metadata": {},
     "output_type": "execute_result"
    }
   ],
   "source": [
    "df['A']"
   ]
  },
  {
   "cell_type": "markdown",
   "metadata": {},
   "source": [
    "Copy a column values into a NumPy array, for passing to a library for example:\n"
   ]
  },
  {
   "cell_type": "code",
   "execution_count": 25,
   "metadata": {
    "ExecuteTime": {
     "end_time": "2018-08-23T17:13:49.717761Z",
     "start_time": "2018-08-23T17:13:49.618764Z"
    }
   },
   "outputs": [
    {
     "name": "stdout",
     "output_type": "stream",
     "text": [
      "[-0.36117182 -1.27504093  0.89094464 -2.07042214 -0.51879024 -1.19240973]\n",
      "<class 'numpy.ndarray'>\n"
     ]
    }
   ],
   "source": [
    "col_A = df['A'].values\n",
    "print(col_A)\n",
    "print(type(col_A))"
   ]
  },
  {
   "cell_type": "markdown",
   "metadata": {},
   "source": [
    "Select rows of a DataFrame using slices."
   ]
  },
  {
   "cell_type": "code",
   "execution_count": 26,
   "metadata": {
    "ExecuteTime": {
     "end_time": "2018-08-23T17:13:49.822827Z",
     "start_time": "2018-08-23T17:13:49.719793Z"
    }
   },
   "outputs": [
    {
     "name": "stdout",
     "output_type": "stream",
     "text": [
      "                   A         B         C         D\n",
      "2013-01-02 -1.275041 -1.014947  0.322499 -0.121134\n",
      "2013-01-03  0.890945  0.568694  0.228494  0.410192\n",
      "                   A         B         C         D\n",
      "2013-01-03  0.890945  0.568694  0.228494  0.410192\n",
      "2013-01-04 -2.070422  0.265733 -0.636263 -0.057367\n",
      "2013-01-05 -0.518790 -0.548848 -1.373859  0.311020\n"
     ]
    }
   ],
   "source": [
    "print(df[1:3])\n",
    "print(df['20130103':'20130105'])"
   ]
  },
  {
   "cell_type": "markdown",
   "metadata": {},
   "source": [
    "Selecting multiple columns.  Unfortunately"
   ]
  },
  {
   "cell_type": "code",
   "execution_count": 27,
   "metadata": {
    "ExecuteTime": {
     "end_time": "2018-08-23T17:13:49.985471Z",
     "start_time": "2018-08-23T17:13:49.824593Z"
    }
   },
   "outputs": [
    {
     "data": {
      "text/html": [
       "<div>\n",
       "<style scoped>\n",
       "    .dataframe tbody tr th:only-of-type {\n",
       "        vertical-align: middle;\n",
       "    }\n",
       "\n",
       "    .dataframe tbody tr th {\n",
       "        vertical-align: top;\n",
       "    }\n",
       "\n",
       "    .dataframe thead th {\n",
       "        text-align: right;\n",
       "    }\n",
       "</style>\n",
       "<table border=\"1\" class=\"dataframe\">\n",
       "  <thead>\n",
       "    <tr style=\"text-align: right;\">\n",
       "      <th></th>\n",
       "      <th>A</th>\n",
       "      <th>B</th>\n",
       "    </tr>\n",
       "  </thead>\n",
       "  <tbody>\n",
       "    <tr>\n",
       "      <td>2013-01-01</td>\n",
       "      <td>-0.361172</td>\n",
       "      <td>1.809067</td>\n",
       "    </tr>\n",
       "    <tr>\n",
       "      <td>2013-01-02</td>\n",
       "      <td>-1.275041</td>\n",
       "      <td>-1.014947</td>\n",
       "    </tr>\n",
       "    <tr>\n",
       "      <td>2013-01-03</td>\n",
       "      <td>0.890945</td>\n",
       "      <td>0.568694</td>\n",
       "    </tr>\n",
       "    <tr>\n",
       "      <td>2013-01-04</td>\n",
       "      <td>-2.070422</td>\n",
       "      <td>0.265733</td>\n",
       "    </tr>\n",
       "    <tr>\n",
       "      <td>2013-01-05</td>\n",
       "      <td>-0.518790</td>\n",
       "      <td>-0.548848</td>\n",
       "    </tr>\n",
       "    <tr>\n",
       "      <td>2013-01-06</td>\n",
       "      <td>-1.192410</td>\n",
       "      <td>-1.744496</td>\n",
       "    </tr>\n",
       "  </tbody>\n",
       "</table>\n",
       "</div>"
      ],
      "text/plain": [
       "                   A         B\n",
       "2013-01-01 -0.361172  1.809067\n",
       "2013-01-02 -1.275041 -1.014947\n",
       "2013-01-03  0.890945  0.568694\n",
       "2013-01-04 -2.070422  0.265733\n",
       "2013-01-05 -0.518790 -0.548848\n",
       "2013-01-06 -1.192410 -1.744496"
      ]
     },
     "execution_count": 27,
     "metadata": {},
     "output_type": "execute_result"
    }
   ],
   "source": [
    "df.loc[:,['A','B']]"
   ]
  },
  {
   "cell_type": "markdown",
   "metadata": {},
   "source": [
    "Getting particular columns and particular rows"
   ]
  },
  {
   "cell_type": "code",
   "execution_count": 28,
   "metadata": {
    "ExecuteTime": {
     "end_time": "2018-08-23T17:13:50.087681Z",
     "start_time": "2018-08-23T17:13:49.987242Z"
    }
   },
   "outputs": [
    {
     "data": {
      "text/html": [
       "<div>\n",
       "<style scoped>\n",
       "    .dataframe tbody tr th:only-of-type {\n",
       "        vertical-align: middle;\n",
       "    }\n",
       "\n",
       "    .dataframe tbody tr th {\n",
       "        vertical-align: top;\n",
       "    }\n",
       "\n",
       "    .dataframe thead th {\n",
       "        text-align: right;\n",
       "    }\n",
       "</style>\n",
       "<table border=\"1\" class=\"dataframe\">\n",
       "  <thead>\n",
       "    <tr style=\"text-align: right;\">\n",
       "      <th></th>\n",
       "      <th>C</th>\n",
       "      <th>A</th>\n",
       "    </tr>\n",
       "  </thead>\n",
       "  <tbody>\n",
       "    <tr>\n",
       "      <td>2013-01-04</td>\n",
       "      <td>-0.636263</td>\n",
       "      <td>-2.070422</td>\n",
       "    </tr>\n",
       "    <tr>\n",
       "      <td>2013-01-05</td>\n",
       "      <td>-1.373859</td>\n",
       "      <td>-0.518790</td>\n",
       "    </tr>\n",
       "    <tr>\n",
       "      <td>2013-01-06</td>\n",
       "      <td>0.922961</td>\n",
       "      <td>-1.192410</td>\n",
       "    </tr>\n",
       "  </tbody>\n",
       "</table>\n",
       "</div>"
      ],
      "text/plain": [
       "                   C         A\n",
       "2013-01-04 -0.636263 -2.070422\n",
       "2013-01-05 -1.373859 -0.518790\n",
       "2013-01-06  0.922961 -1.192410"
      ]
     },
     "execution_count": 28,
     "metadata": {},
     "output_type": "execute_result"
    }
   ],
   "source": [
    "df.loc['20130104':'20130106', ['C', 'A']]"
   ]
  },
  {
   "cell_type": "markdown",
   "metadata": {},
   "source": [
    "Selecting only particular rows by some condition."
   ]
  },
  {
   "cell_type": "code",
   "execution_count": 29,
   "metadata": {
    "ExecuteTime": {
     "end_time": "2018-08-23T17:13:50.180272Z",
     "start_time": "2018-08-23T17:13:50.089367Z"
    }
   },
   "outputs": [
    {
     "data": {
      "text/html": [
       "<div>\n",
       "<style scoped>\n",
       "    .dataframe tbody tr th:only-of-type {\n",
       "        vertical-align: middle;\n",
       "    }\n",
       "\n",
       "    .dataframe tbody tr th {\n",
       "        vertical-align: top;\n",
       "    }\n",
       "\n",
       "    .dataframe thead th {\n",
       "        text-align: right;\n",
       "    }\n",
       "</style>\n",
       "<table border=\"1\" class=\"dataframe\">\n",
       "  <thead>\n",
       "    <tr style=\"text-align: right;\">\n",
       "      <th></th>\n",
       "      <th>A</th>\n",
       "      <th>B</th>\n",
       "      <th>C</th>\n",
       "      <th>D</th>\n",
       "    </tr>\n",
       "  </thead>\n",
       "  <tbody>\n",
       "    <tr>\n",
       "      <td>2013-01-03</td>\n",
       "      <td>0.890945</td>\n",
       "      <td>0.568694</td>\n",
       "      <td>0.228494</td>\n",
       "      <td>0.410192</td>\n",
       "    </tr>\n",
       "  </tbody>\n",
       "</table>\n",
       "</div>"
      ],
      "text/plain": [
       "                   A         B         C         D\n",
       "2013-01-03  0.890945  0.568694  0.228494  0.410192"
      ]
     },
     "execution_count": 29,
     "metadata": {},
     "output_type": "execute_result"
    }
   ],
   "source": [
    "df[df.A > 0]"
   ]
  },
  {
   "cell_type": "markdown",
   "metadata": {},
   "source": [
    "# Versions"
   ]
  },
  {
   "cell_type": "code",
   "execution_count": 30,
   "metadata": {
    "ExecuteTime": {
     "end_time": "2018-08-23T17:13:50.278680Z",
     "start_time": "2018-08-23T17:13:50.182264Z"
    }
   },
   "outputs": [
    {
     "data": {
      "application/json": {
       "Software versions": [
        {
         "module": "Python",
         "version": "3.7.4 64bit [GCC 7.3.0]"
        },
        {
         "module": "IPython",
         "version": "7.8.0"
        },
        {
         "module": "OS",
         "version": "Linux 5.0.0 27 generic x86_64 with debian buster sid"
        },
        {
         "module": "numpy",
         "version": "1.16.4"
        },
        {
         "module": "scipy",
         "version": "1.3.1"
        },
        {
         "module": "matplotlib",
         "version": "3.1.1"
        }
       ]
      },
      "text/html": [
       "<table><tr><th>Software</th><th>Version</th></tr><tr><td>Python</td><td>3.7.4 64bit [GCC 7.3.0]</td></tr><tr><td>IPython</td><td>7.8.0</td></tr><tr><td>OS</td><td>Linux 5.0.0 27 generic x86_64 with debian buster sid</td></tr><tr><td>numpy</td><td>1.16.4</td></tr><tr><td>scipy</td><td>1.3.1</td></tr><tr><td>matplotlib</td><td>3.1.1</td></tr><tr><td colspan='2'>Mon Sep 02 17:27:43 2019 CDT</td></tr></table>"
      ],
      "text/latex": [
       "\\begin{tabular}{|l|l|}\\hline\n",
       "{\\bf Software} & {\\bf Version} \\\\ \\hline\\hline\n",
       "Python & 3.7.4 64bit [GCC 7.3.0] \\\\ \\hline\n",
       "IPython & 7.8.0 \\\\ \\hline\n",
       "OS & Linux 5.0.0 27 generic x86\\_64 with debian buster sid \\\\ \\hline\n",
       "numpy & 1.16.4 \\\\ \\hline\n",
       "scipy & 1.3.1 \\\\ \\hline\n",
       "matplotlib & 3.1.1 \\\\ \\hline\n",
       "\\hline \\multicolumn{2}{|l|}{Mon Sep 02 17:27:43 2019 CDT} \\\\ \\hline\n",
       "\\end{tabular}\n"
      ],
      "text/plain": [
       "Software versions\n",
       "Python 3.7.4 64bit [GCC 7.3.0]\n",
       "IPython 7.8.0\n",
       "OS Linux 5.0.0 27 generic x86_64 with debian buster sid\n",
       "numpy 1.16.4\n",
       "scipy 1.3.1\n",
       "matplotlib 3.1.1\n",
       "Mon Sep 02 17:27:43 2019 CDT"
      ]
     },
     "execution_count": 30,
     "metadata": {},
     "output_type": "execute_result"
    }
   ],
   "source": [
    "%reload_ext version_information\n",
    "\n",
    "%version_information numpy, scipy, matplotlib"
   ]
  }
 ],
 "metadata": {
  "kernelspec": {
   "display_name": "Python 3",
   "language": "python",
   "name": "python3"
  },
  "language_info": {
   "codemirror_mode": {
    "name": "ipython",
    "version": 3
   },
   "file_extension": ".py",
   "mimetype": "text/x-python",
   "name": "python",
   "nbconvert_exporter": "python",
   "pygments_lexer": "ipython3",
   "version": "3.7.4"
  },
  "latex_envs": {
   "LaTeX_envs_menu_present": true,
   "autoclose": true,
   "autocomplete": true,
   "bibliofile": "biblio.bib",
   "cite_by": "apalike",
   "current_citInitial": 1,
   "eqLabelWithNumbers": true,
   "eqNumInitial": 1,
   "hotkeys": {
    "equation": "Ctrl-E",
    "itemize": "Ctrl-I"
   },
   "labels_anchors": false,
   "latex_user_defs": false,
   "report_style_numbering": false,
   "user_envs_cfg": false
  },
  "toc": {
   "base_numbering": 1,
   "nav_menu": {},
   "number_sections": true,
   "sideBar": true,
   "skip_h1_title": false,
   "title_cell": "Table of Contents",
   "title_sidebar": "Contents",
   "toc_cell": false,
   "toc_position": {},
   "toc_section_display": true,
   "toc_window_display": true
  },
  "varInspector": {
   "cols": {
    "lenName": 16,
    "lenType": 16,
    "lenVar": 40
   },
   "kernels_config": {
    "python": {
     "delete_cmd_postfix": "",
     "delete_cmd_prefix": "del ",
     "library": "var_list.py",
     "varRefreshCmd": "print(var_dic_list())"
    },
    "r": {
     "delete_cmd_postfix": ") ",
     "delete_cmd_prefix": "rm(",
     "library": "var_list.r",
     "varRefreshCmd": "cat(var_dic_list()) "
    }
   },
   "types_to_exclude": [
    "module",
    "function",
    "builtin_function_or_method",
    "instance",
    "_Feature"
   ],
   "window_display": false
  }
 },
 "nbformat": 4,
 "nbformat_minor": 1
}
