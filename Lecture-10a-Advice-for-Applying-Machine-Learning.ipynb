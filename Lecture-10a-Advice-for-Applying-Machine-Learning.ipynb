{
 "cells": [
  {
   "cell_type": "code",
   "execution_count": 1,
   "metadata": {
    "ExecuteTime": {
     "end_time": "2019-10-14T21:33:12.656845Z",
     "start_time": "2019-10-14T21:33:12.272991Z"
    }
   },
   "outputs": [],
   "source": [
    "import numpy as np\n",
    "import matplotlib.pyplot as plt\n",
    "import pandas as pd\n",
    "import matplotlib\n",
    "%matplotlib inline\n"
   ]
  },
  {
   "cell_type": "code",
   "execution_count": 2,
   "metadata": {
    "ExecuteTime": {
     "end_time": "2019-10-14T21:33:12.660567Z",
     "start_time": "2019-10-14T21:33:12.658281Z"
    }
   },
   "outputs": [],
   "source": [
    "matplotlib.rcParams['figure.figsize'] = (8, 6) # set default figure size, 8in by 6in"
   ]
  },
  {
   "cell_type": "markdown",
   "metadata": {},
   "source": [
    "This week we will be stepping back a bit and will be trying to give some practical advice on how to debug and improve your learning\n",
    "algorithms for real tasks.  The companion videos this week will talk about how to tell when a learning algorithm is doing poorly,\n",
    "and describe the 'best practices' for how to 'debug' your learning algorithm and go about improving its performance.\n",
    "\n",
    "We will also dip into machine learning ystem design.  To optimize a machine learning algorithm, you will need to first \n",
    "understand where the biggest improvements can be made.  In these lessons, we discuss how to understand the performance of a \n",
    "machine learning system with multiple parts, and also how to deal with skewed data.\n",
    "\n",
    "When you're applying machine learning to a real problem, a sold grasp of this weeks practical advice will easily save you a large\n",
    "amount of work."
   ]
  },
  {
   "cell_type": "markdown",
   "metadata": {},
   "source": [
    "# Video W6 01: Deciding What to Try Next\n",
    "\n",
    "[YouTube Video Link](https://www.youtube.com/watch?v=c03aZtGvKVw&index=59&list=PLZ9qNFMHZ-A4rycgrgOYma6zxF4BZGGPW)\n",
    "\n",
    "Practical suggestions and guidelines.  Suppose you are developing or trying to improve the performance of a machine learning\n",
    "system.  How do you what are the promising avenues to try next, to have the most likely chance of improving the systems performance?\n",
    "\n",
    "**Debugging a Learning Algorithm**\n",
    "\n",
    "What should you try next?\n",
    "\n",
    "- Get more training examples.  (Often helpful, but not always, and not always practicable).\n",
    "- Try a smaller set of features. (Can be useful if model is being overfitted, to prevent overfitting).\n",
    "- Try getting additional features. (Again usually helpful, but not always and not always practicable).\n",
    "- Try adding polynomial features (e.g. $x_1^2, x_2^2, x_1x_2$, etc.)\n",
    "- Try decreasing and/or increasing the regularization parameter $\\lambda$\n",
    "\n",
    "**One simple Technique that will blow your mind**\n",
    "\n",
    "The instructor begins to sound a bit click-baity in the video at this point, but this is really a very important bit of practical\n",
    "advice being given here.  The difference between a successful application of machine learning and an unsuccessful one resides in\n",
    "the art of these types of diagnostics, so we can really get evidence and know with some certainity what things are more likely to\n",
    "be helpful to try, and what things will be useless to work on if we want to improve the system performance.\n",
    "\n",
    "The next few videos will introduce some diagnostic tests that can be useful in focusing in on or ruling out some of the list of\n",
    "things we mentioned above to try.  Such diagnostics can take time to implement, but will potentially pay off many times over in\n",
    "allowing us to understand which things we should put our effort into to improve the machine learning performance.  \n",
    "\n"
   ]
  },
  {
   "cell_type": "markdown",
   "metadata": {},
   "source": [
    "# Video W6 02: Evaluating a Hypothesis\n",
    "\n",
    "[YouTube Video Link](https://www.youtube.com/watch?v=m7JeOLm8wog&index=60&list=PLZ9qNFMHZ-A4rycgrgOYma6zxF4BZGGPW)\n",
    "\n",
    "**Problem 1**: How do we evaluate if a learned hypothesis is potentially overfitting the data?  The basic idea is that we need\n",
    "to split up our data and only train the model on a portion of our data.  We then use the held back data to test the performance.\n",
    "If the performance on the test set is much worse than the performance we get on the trained data, then it is likely the model\n",
    "has been overfitted (do you understand why?  make sure you follow why this is the case).  A typical split is something like use\n",
    "70% of the data for training, and 30% of the data for testing.\n",
    "\n",
    "Lets read in the example house price data from week 03, which has data with a single dimension (the size of houses), and the\n",
    "value we want to predict using linear regression (the price of the house)."
   ]
  },
  {
   "cell_type": "code",
   "execution_count": 3,
   "metadata": {
    "ExecuteTime": {
     "end_time": "2019-10-14T21:33:12.988506Z",
     "start_time": "2019-10-14T21:33:12.661688Z"
    }
   },
   "outputs": [
    {
     "data": {
      "text/plain": [
       "Text(0, 0.5, 'Price (in 1000s $)')"
      ]
     },
     "execution_count": 3,
     "metadata": {},
     "output_type": "execute_result"
    },
    {
     "data": {
      "image/png": "[encoded data removed]",
      "text/plain": [
       "<Figure size 576x432 with 1 Axes>"
      ]
     },
     "metadata": {
      "needs_background": "light"
     },
     "output_type": "display_data"
    }
   ],
   "source": [
    "# read in the house size vs. price data to use as an example\n",
    "house = pd.read_csv('data/housing-prices-portland-or.csv')\n",
    "house.price = house.price / 1000.0 # in video, we specify prices in terms of 1000s of dollars\n",
    "x = house.sqft.values \n",
    "y = house.price.values\n",
    "\n",
    "plt.plot(x, y, 'rx')\n",
    "plt.axis([0, 3000, 0, 525])\n",
    "plt.xlabel('Size ($feet^2$)')\n",
    "plt.ylabel('Price (in 1000s $)')"
   ]
  },
  {
   "cell_type": "code",
   "execution_count": 4,
   "metadata": {
    "ExecuteTime": {
     "end_time": "2019-10-14T21:33:12.993084Z",
     "start_time": "2019-10-14T21:33:12.989744Z"
    }
   },
   "outputs": [
    {
     "name": "stdout",
     "output_type": "stream",
     "text": [
      "47\n",
      "[2104 1600 2400 1416 3000 1985 1534 1427 1380 1494 1940 2000 1890 4478\n",
      " 1268 2300 1320 1236 2609 3031 1767 1888 1604 1962 3890 1100 1458 2526\n",
      " 2200 2637 1839 1000 2040 3137 1811 1437 1239 2132 4215 2162 1664 2238\n",
      " 2567 1200  852 1852 1203]\n",
      "[399.9   329.9   369.    232.    539.9   299.9   314.9   198.999 212.\n",
      " 242.5   239.999 347.    329.999 699.9   259.9   449.9   299.9   199.9\n",
      " 499.998 599.    252.9   255.    242.9   259.9   573.9   249.9   464.5\n",
      " 469.    475.    299.9   349.9   169.9   314.9   579.9   285.9   249.9\n",
      " 229.9   345.    549.    287.    368.5   329.9   314.    299.    179.9\n",
      " 299.9   239.5  ]\n"
     ]
    }
   ],
   "source": [
    "print(len(x))\n",
    "print(x)\n",
    "print(y)"
   ]
  },
  {
   "cell_type": "markdown",
   "metadata": {},
   "source": [
    "The data has 47 houses.  The data is in no particular order.  However, you can sometimes get a data set that has been sorted or \n",
    "ordered in some way.  For example, our data set could have been sorted by the square footage (notice in the next cell I use\n",
    "`argsort()` to get the indices that would sort `x`, then sort both `x` and `y` so that the items in each array still correctly\n",
    "correspond to one another)."
   ]
  },
  {
   "cell_type": "code",
   "execution_count": 5,
   "metadata": {
    "ExecuteTime": {
     "end_time": "2019-10-14T21:33:13.003638Z",
     "start_time": "2019-10-14T21:33:12.994662Z"
    }
   },
   "outputs": [
    {
     "name": "stdout",
     "output_type": "stream",
     "text": [
      "[ 852 1000 1100 1200 1203 1236 1239 1268 1320 1380 1416 1427 1437 1458\n",
      " 1494 1534 1600 1604 1664 1767 1811 1839 1852 1888 1890 1940 1962 1985\n",
      " 2000 2040 2104 2132 2162 2200 2238 2300 2400 2526 2567 2609 2637 3000\n",
      " 3031 3137 3890 4215 4478]\n",
      "[179.9   169.9   249.9   299.    239.5   199.9   229.9   259.9   299.9\n",
      " 212.    232.    198.999 249.9   464.5   242.5   314.9   329.9   242.9\n",
      " 368.5   252.9   285.9   349.9   299.9   255.    329.999 239.999 259.9\n",
      " 299.9   347.    314.9   399.9   345.    287.    475.    329.9   449.9\n",
      " 369.    469.    314.    499.998 299.9   539.9   599.    579.9   573.9\n",
      " 549.    699.9  ]\n"
     ]
    }
   ],
   "source": [
    "# get the indexes that would sort the x array in ascending order by the square feet, and then\n",
    "# rearrange both x and y by this sorting\n",
    "sorted_idx = np.argsort(x)\n",
    "x = x[sorted_idx]\n",
    "y = y[sorted_idx]\n",
    "print(x)\n",
    "print(y)"
   ]
  },
  {
   "cell_type": "markdown",
   "metadata": {},
   "source": [
    "As mentioned in the video, if the data is sorted or arranged in some pattern, we can't simply take a 70/30 split to create\n",
    "train and test data sets.  For example, if we did that for the now sorted data above, we would end up with all of the lowest\n",
    "square foot houses in the training data, and all of the biggest houses for our test set, which with a little thinking you should\n",
    "be able to convince yourself this would not be a good idea.  Lets randomly (re)shuffle up the data, to ensure when we\n",
    "split it we get representative training and test items over the full range of data."
   ]
  },
  {
   "cell_type": "code",
   "execution_count": 6,
   "metadata": {
    "ExecuteTime": {
     "end_time": "2019-10-14T21:33:13.011334Z",
     "start_time": "2019-10-14T21:33:13.004897Z"
    }
   },
   "outputs": [
    {
     "name": "stdout",
     "output_type": "stream",
     "text": [
      "[1985 2609 1962 3137 1890 2400 1437 1767 1203 1940 1320 1200 1239 2637\n",
      " 2200 1458 1604 3890 1534 1380 1600 2040 2162 4215  852 2132 2104 1236\n",
      " 1427 2238 1000 3000 1839 1100 2300 1888 2526 1416 1852 1664 4478 1811\n",
      " 1268 3031 1494 2000 2567]\n",
      "[299.9   499.998 259.9   579.9   329.999 369.    249.9   252.9   239.5\n",
      " 239.999 299.9   299.    229.9   299.9   475.    464.5   242.9   573.9\n",
      " 314.9   212.    329.9   314.9   287.    549.    179.9   345.    399.9\n",
      " 199.9   198.999 329.9   169.9   539.9   349.9   249.9   449.9   255.\n",
      " 469.    232.    299.9   368.5   699.9   285.9   259.9   599.    242.5\n",
      " 347.    314.   ]\n"
     ]
    }
   ],
   "source": [
    "# get a set of indexes from 0 to 46 in a random order, then reorder both x and y\n",
    "# in this new same random ordering\n",
    "np.random.seed(42) # set seed so that notebooks are the same when students run, change this to see different results\n",
    "random_idx = np.random.permutation(len(x))\n",
    "x = x[random_idx]\n",
    "y = y[random_idx]\n",
    "print(x)\n",
    "print(y)"
   ]
  },
  {
   "cell_type": "markdown",
   "metadata": {},
   "source": [
    "Once you are certain your data is sufficiently shuffled, it is a fairly easy task using array slicing in `Python`/`NumPy` to split\n",
    "the data into test and training sets."
   ]
  },
  {
   "cell_type": "code",
   "execution_count": 7,
   "metadata": {
    "ExecuteTime": {
     "end_time": "2019-10-14T21:33:13.019029Z",
     "start_time": "2019-10-14T21:33:13.012788Z"
    }
   },
   "outputs": [
    {
     "name": "stdout",
     "output_type": "stream",
     "text": [
      "32 15\n"
     ]
    }
   ],
   "source": [
    "# we will split with 70% in the training set, and 30% in test set, split_idx is the index to split at \n",
    "split_idx = int(0.7 * len(x)) \n",
    "\n",
    "x_train = x[0:split_idx]\n",
    "y_train = y[0:split_idx]\n",
    "x_test = x[split_idx:]\n",
    "y_test = y[split_idx:]\n",
    "print(len(x_train), len(x_test))"
   ]
  },
  {
   "cell_type": "markdown",
   "metadata": {},
   "source": [
    "We compute the error on the test set using the same objective cost function we use for training.  For example, the sum squared error\n",
    "for linear regression, or the logistic cost function for logistic regression (e.g. the $J(\\theta)$ cost function, but over the\n",
    "testing data).  For classification problems, we can also use the simpler misclassification error to evaluate more directly \n",
    "what percentage of the test set in a classification problem is being classified correctly or misclassified).\n",
    "\n",
    "As an example, lets fit a linear regression model to our training set example data, then evaluate the performance on \n",
    "the training set data and also on the test set data.\n"
   ]
  },
  {
   "cell_type": "code",
   "execution_count": 8,
   "metadata": {
    "ExecuteTime": {
     "end_time": "2019-10-14T21:33:13.030382Z",
     "start_time": "2019-10-14T21:33:13.020753Z"
    }
   },
   "outputs": [],
   "source": [
    "def compute_linear_regression_cost(theta, X, y):\n",
    "    \"\"\"Compute the cost function for linear regression.  \n",
    "    \n",
    "    Given a set of inputs X, and the correct \n",
    "    outputs for these inputs y, calculate the hypothesized outputs \n",
    "    for a given set of parameters theta.  Then we compute the sum of\n",
    "    the squared differences (and divide the final result by 2*m), \n",
    "    which gives us the cost.\n",
    "    \n",
    "    Args\n",
    "    ----\n",
    "    theta (numpy nx1 array) - An array of the set of theta parameters\n",
    "       to evaluate\n",
    "    X (numpy mxn size array) - The example inputs, first column is expected\n",
    "       to be all 1's.\n",
    "    y (numpy m size array) - A vector of the correct outputs of length m\n",
    "       \n",
    "    Returns\n",
    "    -------\n",
    "    J (float) - The sum squared difference cost function for the given\n",
    "       theta parameters\n",
    "    \"\"\"\n",
    "    \n",
    "    # determine the number of training examples from the size of the correct outputs\n",
    "    m = len(y)\n",
    "    \n",
    "    # compute the cost\n",
    "    J = 0.0\n",
    "    hypothesis = np.dot(theta.T, X)\n",
    "    J = np.sum( (hypothesis - y)**2.0 ) / (2.0 * m)\n",
    "    \n",
    "    return J\n",
    "\n",
    "\n",
    "def compute_linear_regression_gradients(theta, X, y):\n",
    "    \"\"\"Compute the gradients of the theta parameters for our logistic regression\n",
    "    cost function.\n",
    "    \n",
    "    Given a set of inputs X (we assume that the first column has been \n",
    "    initialized to 1's for the theta_0 parameter), and the correct \n",
    "    outputs for these inputs y, calculate the gradient of the cost function\n",
    "    with respect to each of the theta parameters.\n",
    "    \n",
    "    Args\n",
    "    ----\n",
    "    theta (numpy nx1 array) - An array of the set of theta parameters\n",
    "       to evaluate\n",
    "    X (numpy mxn array) - The example inputs, first column is expected\n",
    "       to be all 1's.\n",
    "    y (numpy m size array) - A vector of the correct outputs of length m\n",
    "       \n",
    "    Returns\n",
    "    -------\n",
    "    gradients - A numpy n sized vector of the computed gradients.\n",
    "    \"\"\"\n",
    "\n",
    "    # determine the number of training examples from the size of the correct outputs\n",
    "    # and the number of parameters from the size of theta\n",
    "    m = len(y)\n",
    "    n = len(theta)\n",
    "    \n",
    "    # return the calculated gradients of theta\n",
    "    gradients = np.zeros(n)\n",
    "\n",
    "    hypothesis = np.dot(theta.T, X)\n",
    "    for j in range(n):\n",
    "        gradients[j] = np.sum((hypothesis - y) * X[j,:]) / m\n",
    "        \n",
    "    return gradients"
   ]
  },
  {
   "cell_type": "code",
   "execution_count": 9,
   "metadata": {
    "ExecuteTime": {
     "end_time": "2019-10-14T21:33:13.110746Z",
     "start_time": "2019-10-14T21:33:13.031538Z"
    }
   },
   "outputs": [
    {
     "name": "stdout",
     "output_type": "stream",
     "text": [
      "Optimization terminated successfully.\n",
      "         Current function value: 2217.251040\n",
      "         Iterations: 4\n",
      "         Function evaluations: 6\n",
      "         Gradient evaluations: 6\n",
      "[83.69220345  0.12578338]\n"
     ]
    }
   ],
   "source": [
    "m = len(y_train)\n",
    "n = 2\n",
    "X_Train = np.ones( (n, m) ) # add a column of 1s for the bias term\n",
    "X_Train[1:,:] = x_train.T # the second column contains the raw inputs\n",
    "\n",
    "\n",
    "theta = np.zeros( (n, 1) )\n",
    "from scipy.optimize import minimize\n",
    "res = minimize(compute_linear_regression_cost, theta, method='BFGS', \n",
    "               jac=compute_linear_regression_gradients, \n",
    "               args=(X_Train, y_train), options={'disp': True})\n",
    "theta_opt = res.x # res is an object, the x variable in res has the optimized parameters\n",
    "print(theta_opt) "
   ]
  },
  {
   "cell_type": "code",
   "execution_count": 10,
   "metadata": {
    "ExecuteTime": {
     "end_time": "2019-10-14T21:33:13.114822Z",
     "start_time": "2019-10-14T21:33:13.112032Z"
    }
   },
   "outputs": [
    {
     "name": "stdout",
     "output_type": "stream",
     "text": [
      "Training set error: 2217.251040023292\n"
     ]
    }
   ],
   "source": [
    "# compute the final cost on the training set we achieved (should be equal to the res.fun returned\n",
    "# from the minimize function).\n",
    "error = compute_linear_regression_cost(theta_opt, X_Train, y_train)\n",
    "print(\"Training set error:\", error)"
   ]
  },
  {
   "cell_type": "code",
   "execution_count": 11,
   "metadata": {
    "ExecuteTime": {
     "end_time": "2019-10-14T21:33:13.122317Z",
     "start_time": "2019-10-14T21:33:13.115896Z"
    }
   },
   "outputs": [
    {
     "name": "stdout",
     "output_type": "stream",
     "text": [
      "Test set error: 1832.9251484657152\n"
     ]
    }
   ],
   "source": [
    "# for linear regression, we can simply reuse the cost function to compute the cost on the test\n",
    "# set, or in other words the test set error\n",
    "m_test = len(y_test)\n",
    "n = 2\n",
    "X_Test = np.ones( (n, m_test) )\n",
    "X_Test[1:,:] = x_test.T # the second column contains the raw inputs\n",
    "\n",
    "error = compute_linear_regression_cost(theta_opt, X_Test, y_test)\n",
    "print(\"Test set error:\", error)"
   ]
  },
  {
   "cell_type": "markdown",
   "metadata": {},
   "source": [
    "The final result is an estimate of how well the model will be able to generalize.  The error on the data set the model is trained\n",
    "with (as discussed in the next video) is not a good indication of how well the model will do with unseen data.  Since we are\n",
    "optimizing the model for the data we are training with, we of course expect it to get the minimal possible error it can get\n",
    "given our parameters and the model (a linear one in this case) we are using.  However, if the model is overfitted or underfitted\n",
    "(as we'll discuss later), then the answeres it gives will not generalize well to unseen and untrained for data.  We can use the\n",
    "computed cost on the test sets to help us measure and estimate this generalization performance of a model."
   ]
  },
  {
   "cell_type": "markdown",
   "metadata": {},
   "source": [
    "# Video W6 03: Model Selection and Train Validation Test Sets\n",
    "\n",
    "[YouTube Video Link](https://www.youtube.com/watch?v=2KQXN-8Y0ww&list=PLZ9qNFMHZ-A4rycgrgOYma6zxF4BZGGPW&index=61)\n",
    "\n",
    "Most of this video lays out why, in addition to splitting off a bit of the data to act as a test set, we sometimes need to also\n",
    "set aside some of the data for a validation (or cross validation) set.  A typical split when needing a validation set is to use\n",
    "60% for trainig, and 20% for testing and validation respectively).  Validation sets are necessary when we are \n",
    "comparing the performance of several different models.  Holding back the validation set allows us to \n",
    "compare the different models on\n",
    "the validation set instead.  Then we can see how well the selected model will generalize on unseen data by seeing its\n",
    "performance on the held back and never used test set.  When you need to compare the performance of several models\n",
    "in order to pick one, it is\n",
    "considered best practice to split the data into the 3 sets: test, validation and training.  We then select the model based on\n",
    "the cross validation set, and then measure the generalization error performance of this selected \n",
    "model on the held back never used test set.\n",
    "\n",
    "Lets consider the model selection problem.  In the previous cells we fitted a simple linear model with 1 parameter to the data.\n",
    "Lets say we want to try fitting higher order polynomial term models to this same data, to see if we can improve the\n",
    "performance.  In the video, we try and select between models with terms of order from 1 to 10:\n",
    "\n",
    "1. $h_\\theta(x) = \\theta_0 + \\theta_1 x$\n",
    "2. $h_\\theta(x) = \\theta_0 + \\theta_1 x + \\theta_2 x^2$\n",
    "3. $h_\\theta(x) = \\theta_0 + \\theta_1 x + \\theta_2 x^2 + \\theta_3 x^3$\n",
    "\n",
    "up to\n",
    "\n",
    "10) $h_\\theta(x) = \\theta_0 + \\theta_1 x + \\cdots + \\theta_{10} x^{10}$\n",
    "\n",
    "First of all, lets reshuffle our data and split it up into train, test and validation data sets using a 60/20/20 split as\n",
    "described in the video:"
   ]
  },
  {
   "cell_type": "code",
   "execution_count": 12,
   "metadata": {
    "ExecuteTime": {
     "end_time": "2019-10-14T21:33:13.133411Z",
     "start_time": "2019-10-14T21:33:13.123657Z"
    }
   },
   "outputs": [
    {
     "name": "stdout",
     "output_type": "stream",
     "text": [
      "28 9 10\n"
     ]
    }
   ],
   "source": [
    "# read in the house size vs. price data to use as an example\n",
    "house = pd.read_csv('data/housing-prices-portland-or.csv')\n",
    "house.sqft = house.sqft / 1000.0 # so that our x^10 terms don't overflow, we specify house sizes in 1000s of sq ft.\n",
    "house.price = house.price / 1000.0 # in video, we specify prices in terms of 1000s of dollars\n",
    "x = house.sqft.values \n",
    "y = house.price.values\n",
    "\n",
    "# randomly shuffle it up\n",
    "np.random.seed(12)\n",
    "random_idx = np.random.permutation(len(x))\n",
    "x = x[random_idx]\n",
    "y = y[random_idx]\n",
    "\n",
    "# we will split train from test/validation at 60% of the data\n",
    "test_idx = int(0.6 * len(x)) \n",
    "# and we split the test and validation at 80% of the data\n",
    "valid_idx = int(0.8 * len(x))\n",
    "\n",
    "x_train = x[0:test_idx]\n",
    "y_train = y[0:test_idx]\n",
    "m_train = len(y_train)\n",
    "\n",
    "x_test = x[test_idx:valid_idx]\n",
    "y_test = y[test_idx:valid_idx]\n",
    "m_test = len(y_test)\n",
    "\n",
    "x_valid = x[valid_idx:]\n",
    "y_valid = y[valid_idx:]\n",
    "m_valid = len(y_valid)\n",
    "\n",
    "print(m_train, m_test, m_valid)\n"
   ]
  },
  {
   "cell_type": "markdown",
   "metadata": {},
   "source": [
    "Now lets train 10 models using simple linear regression with added polynomial terms.  We will keep track of the parameters\n",
    "we get fitted for each model in regular `Python` list called `models`.  I will also keep track of the calculated\n",
    "cost on the validation set for each of the models in a list called `model_errors`."
   ]
  },
  {
   "cell_type": "code",
   "execution_count": 13,
   "metadata": {
    "ExecuteTime": {
     "end_time": "2019-10-14T21:33:13.215209Z",
     "start_time": "2019-10-14T21:33:13.134723Z"
    }
   },
   "outputs": [
    {
     "name": "stdout",
     "output_type": "stream",
     "text": [
      "[1158.9102945201694, 1641.3568650167836, 2971.249136406196, 7742.312107229523, 8659.600321801667, 6479.038779575233, 1200.5204152532876, 1319.5607109984817, 25725.815294743647, 310911.80438063876]\n"
     ]
    }
   ],
   "source": [
    "models = []\n",
    "model_errors = []\n",
    "\n",
    "for i in range(10):\n",
    "    \n",
    "    # first set up the X matrix with the polynomial terms to train a model with\n",
    "    n = i + 2 # number of parameters in the model, for i=0, we are doing the model with degree 1 polynomial, etc.\n",
    "    X_Train = np.ones( (n, m_train) ) # add a column of 1s for the bias term\n",
    "    X_Train[1,:] = x_train.T # the second column contains the raw inputs\n",
    "    # fill in 3rd and higher columns with polynomial terms of the raw data\n",
    "    for p in range(2,n):\n",
    "        X_Train[p,:] = x_train.T**p\n",
    "        \n",
    "    # now train a model on the degree n-1 polynomial terms in X\n",
    "    theta = np.zeros( (n, 1) )\n",
    "    res = minimize(compute_linear_regression_cost, theta, method='L-BFGS-B', \n",
    "                   jac=compute_linear_regression_gradients, \n",
    "                   args=(X_Train, y_train), options={'disp': True, 'maxiter': 200})\n",
    "    theta_opt = res.x # res is an object, the x variable in res has the optimized parameters\n",
    "    models.append(theta_opt)\n",
    "\n",
    "    # now compute the cost of this model on the validation data\n",
    "    X_Valid = np.ones( (n, m_valid) ) # add a column of 1s for the bias term\n",
    "    X_Valid[1,:] = x_valid.T # the second column contains the raw inputs\n",
    "    # fill in 3rd and higher columns with polynomial terms of the  data\n",
    "    for p in range(2,n):\n",
    "        X_Valid[p,:] = x_valid.T**p\n",
    "    error = compute_linear_regression_cost(theta_opt, X_Valid, y_valid)\n",
    "    model_errors.append(error)\n",
    "    \n",
    "print(model_errors)"
   ]
  },
  {
   "cell_type": "markdown",
   "metadata": {},
   "source": [
    "For this data set, really the degree 1 polynomial does the best, the higher degree polynomials are not improving the error \n",
    "(though there is a lot of noise, for this particular split it almost recovers, then falls apart for very high\n",
    "degree polynomials).  For example, we can plot the results of the errors on the validation sets for our 10 models to compare them:"
   ]
  },
  {
   "cell_type": "code",
   "execution_count": 14,
   "metadata": {
    "ExecuteTime": {
     "end_time": "2019-10-14T21:33:13.336624Z",
     "start_time": "2019-10-14T21:33:13.216426Z"
    }
   },
   "outputs": [
    {
     "data": {
      "text/plain": [
       "[0, 11, 6, 13]"
      ]
     },
     "execution_count": 14,
     "metadata": {},
     "output_type": "execute_result"
    },
    {
     "data": {
      "image/png": "[encoded data removed]",
      "text/plain": [
       "<Figure size 576x432 with 1 Axes>"
      ]
     },
     "metadata": {
      "needs_background": "light"
     },
     "output_type": "display_data"
    }
   ],
   "source": [
    "p = np.arange(1, 11)\n",
    "plt.plot(p, np.log(model_errors), 'g^', markersize=10)\n",
    "plt.xlabel('degree of polynomial')\n",
    "plt.ylabel('log(error)')\n",
    "plt.xticks(p)\n",
    "plt.axis([0, 11, 6, 13])"
   ]
  },
  {
   "cell_type": "markdown",
   "metadata": {},
   "source": [
    "And finally we can compute the expected generalization error on our best model now (the degree = 1 model) using the held back\n",
    "test set."
   ]
  },
  {
   "cell_type": "code",
   "execution_count": 15,
   "metadata": {
    "ExecuteTime": {
     "end_time": "2019-10-14T21:33:13.341636Z",
     "start_time": "2019-10-14T21:33:13.337996Z"
    }
   },
   "outputs": [
    {
     "name": "stdout",
     "output_type": "stream",
     "text": [
      "[ 82.61799163 132.45511981]\n",
      "Generalization error for degree 1 model: 1488.5185687870585\n"
     ]
    }
   ],
   "source": [
    "theta_opt = models[0]\n",
    "print(theta_opt)\n",
    "n = 2 # degree 1 polynomial model has 2 termsonly , theta_0 and theta_1\n",
    "X_Test = np.ones( (n, m_test) ) # add a column of 1s for the bias term\n",
    "X_Test[1,:] = x_test.T # the second column contains the raw inputs\n",
    "error = compute_linear_regression_cost(theta_opt, X_Test, y_test)\n",
    "print(\"Generalization error for degree 1 model:\", error)\n"
   ]
  },
  {
   "cell_type": "markdown",
   "metadata": {},
   "source": [
    "The previous example using the single variable housing price example maybe doesn't illustrate best this type of model selection,\n",
    "as the degree 1 polynomial model was working the best for the given data.  Lets create a set of data that is actually a degree\n",
    "4 polynomial (and add some noise), and do all of the previous again, just to illustrate that this type of optimization and\n",
    "searching for a model using validation and testing sets does work."
   ]
  },
  {
   "cell_type": "code",
   "execution_count": 16,
   "metadata": {
    "ExecuteTime": {
     "end_time": "2019-10-14T21:33:13.488096Z",
     "start_time": "2019-10-14T21:33:13.344106Z"
    }
   },
   "outputs": [
    {
     "name": "stdout",
     "output_type": "stream",
     "text": [
      "[[ 1.9107586]\n",
      " [-0.3027249]\n",
      " [ 0.8201923]\n",
      " [ 0.6334626]\n",
      " [-0.4747853]]\n"
     ]
    },
    {
     "data": {
      "image/png": "[encoded data removed]",
      "text/plain": [
       "<Figure size 576x432 with 1 Axes>"
      ]
     },
     "metadata": {
      "needs_background": "light"
     },
     "output_type": "display_data"
    }
   ],
   "source": [
    "# create an array of parameters represeting the real function/model that is generating the data\n",
    "#theta_real = np.random.normal(0.0, 0.1, size=(5,1))\n",
    "#theta_real[0] = theta_real[0] * 2.0\n",
    "#theta_real[1] = theta_real[1]\n",
    "#theta_real[2] = theta_real[2]\n",
    "#theta_real[3] = theta_real[3] / 2.0\n",
    "#theta_real[4] = theta_real[4] / 4.0\n",
    "\n",
    "#theta_real = np.array([[  1.11449268e+00],\n",
    "#                       [ -1.94490974e-01],\n",
    "#                       [  3.70858149e-02],\n",
    "#                       [  9.44528570e-03],\n",
    "#                       [ -9.18530523e-04]])\n",
    "\n",
    "theta_real = np.array([[1.9107586],\n",
    "                       [-0.3027249],\n",
    "                       [ 0.8201923],\n",
    "                       [ 0.6334626],\n",
    "                       [-0.4747853]])\n",
    "print(theta_real)\n",
    "\n",
    "\n",
    "def compute_y(theta, x):\n",
    "    y = theta_real[0] + theta_real[1] * x + theta_real[2] * x**2.0 + theta_real[3] * x**3.0 + theta_real[4] * x**4.0\n",
    "    return y\n",
    "    \n",
    "#  random data points in range from -1 to 1, representing the input data\n",
    "NUM_DATA_POINTS = 35\n",
    "np.random.seed(42) # ensure that when  you run notebook, you get same thing I get\n",
    "x = np.random.uniform(-1.0, 1.0, NUM_DATA_POINTS)\n",
    "\n",
    "# the answer with a bit of noise added\n",
    "y = compute_y(theta, x) + np.random.normal(0.0, 0.2, NUM_DATA_POINTS)\n",
    "\n",
    "\n",
    "# plot the data with noise we will use\n",
    "plt.plot(x, y, 'g^', label='noisy data')\n",
    "\n",
    "# plot the true curve, with no noise\n",
    "x_true = np.arange(-1.0, 1.0, 0.01)\n",
    "y_true = compute_y(theta, x_true)\n",
    "plt.plot(x_true, y_true, label='true model')\n",
    "plt.legend(loc=2);"
   ]
  },
  {
   "cell_type": "code",
   "execution_count": 17,
   "metadata": {
    "ExecuteTime": {
     "end_time": "2019-10-14T21:33:13.494839Z",
     "start_time": "2019-10-14T21:33:13.489879Z"
    }
   },
   "outputs": [
    {
     "name": "stdout",
     "output_type": "stream",
     "text": [
      "21 7 7\n"
     ]
    }
   ],
   "source": [
    "# now that we have a new x,y set of inputs and correct outputs, set up all of the train/test/validation data sets,\n",
    "# and train models on polynomial combinations with degree 1 to 10 again and compare\n",
    "\n",
    "# randomly shuffle it up\n",
    "random_idx = np.random.permutation(len(x))\n",
    "x = x[random_idx]\n",
    "y = y[random_idx]\n",
    "\n",
    "# we will split train from test/validation at 60% of the data\n",
    "test_idx = int(0.6 * len(x)) \n",
    "# and we split the test and validation at 80% of the data\n",
    "valid_idx = int(0.8 * len(x))\n",
    "\n",
    "x_train = x[0:test_idx]\n",
    "y_train = y[0:test_idx]\n",
    "m_train = len(y_train)\n",
    "\n",
    "x_test = x[test_idx:valid_idx]\n",
    "y_test = y[test_idx:valid_idx]\n",
    "m_test = len(y_test)\n",
    "\n",
    "x_valid = x[valid_idx:]\n",
    "y_valid = y[valid_idx:]\n",
    "m_valid = len(y_valid)\n",
    "\n",
    "print(m_train, m_test, m_valid)\n"
   ]
  },
  {
   "cell_type": "code",
   "execution_count": 18,
   "metadata": {
    "ExecuteTime": {
     "end_time": "2019-10-14T21:33:13.593708Z",
     "start_time": "2019-10-14T21:33:13.496223Z"
    }
   },
   "outputs": [
    {
     "name": "stdout",
     "output_type": "stream",
     "text": [
      "Optimization terminated successfully.\n",
      "         Current function value: 0.037674\n",
      "         Iterations: 4\n",
      "         Function evaluations: 5\n",
      "         Gradient evaluations: 5\n",
      "Optimization terminated successfully.\n",
      "         Current function value: 0.026163\n",
      "         Iterations: 10\n",
      "         Function evaluations: 11\n",
      "         Gradient evaluations: 11\n",
      "Optimization terminated successfully.\n",
      "         Current function value: 0.019103\n",
      "         Iterations: 16\n",
      "         Function evaluations: 17\n",
      "         Gradient evaluations: 17\n",
      "Optimization terminated successfully.\n",
      "         Current function value: 0.014324\n",
      "         Iterations: 27\n",
      "         Function evaluations: 28\n",
      "         Gradient evaluations: 28\n",
      "Optimization terminated successfully.\n",
      "         Current function value: 0.014156\n",
      "         Iterations: 39\n",
      "         Function evaluations: 40\n",
      "         Gradient evaluations: 40\n",
      "Optimization terminated successfully.\n",
      "         Current function value: 0.014100\n",
      "         Iterations: 37\n",
      "         Function evaluations: 38\n",
      "         Gradient evaluations: 38\n",
      "Optimization terminated successfully.\n",
      "         Current function value: 0.010687\n",
      "         Iterations: 71\n",
      "         Function evaluations: 73\n",
      "         Gradient evaluations: 73\n",
      "Optimization terminated successfully.\n",
      "         Current function value: 0.008218\n",
      "         Iterations: 91\n",
      "         Function evaluations: 93\n",
      "         Gradient evaluations: 93\n",
      "Optimization terminated successfully.\n",
      "         Current function value: 0.007613\n",
      "         Iterations: 117\n",
      "         Function evaluations: 118\n",
      "         Gradient evaluations: 118\n",
      "Optimization terminated successfully.\n",
      "         Current function value: 0.007662\n",
      "         Iterations: 109\n",
      "         Function evaluations: 112\n",
      "         Gradient evaluations: 112\n",
      "[0.047027113324881756, 0.03650110987405214, 0.017737033512, 0.011366754997720276, 0.010438225147355292, 0.011371873820636928, 0.02334234517564443, 0.020384170852379268, 0.027902878759981053, 0.029307509273129504]\n"
     ]
    }
   ],
   "source": [
    "models = []\n",
    "model_errors = []\n",
    "\n",
    "for i in range(10):\n",
    "    \n",
    "    # first set up the X matrix with the polynomial terms to train a model with\n",
    "    n = i + 2 # number of parameters in the model, for i=0, we are doing the model with degree 1 polynomial, etc.\n",
    "    X_Train = np.ones( (n, m_train) ) # add a column of 1s for the bias term\n",
    "    X_Train[1,:] = x_train.T # the second column contains the raw inputs\n",
    "    # fill in 3rd and higher columns with polynomial terms of the raw data\n",
    "    for p in range(2,n):\n",
    "        X_Train[p,:] = x_train.T**p\n",
    "        \n",
    "    # now train a model on the degree n-1 polynomial terms in X\n",
    "    theta = np.zeros( (n, 1) )\n",
    "    res = minimize(compute_linear_regression_cost, theta, method='BFGS', \n",
    "                   jac=compute_linear_regression_gradients, \n",
    "                   args=(X_Train, y_train), options={'disp': True, 'maxiter': 200})\n",
    "    theta_opt = res.x # res is an object, the x variable in res has the optimized parameters\n",
    "    models.append(theta_opt)\n",
    "\n",
    "    # now compute the cost of this model on the validation data\n",
    "    X_Valid = np.ones( (n, m_valid) ) # add a column of 1s for the bias term\n",
    "    X_Valid[1,:] = x_valid.T # the second column contains the raw inputs\n",
    "    # fill in 3rd and higher columns with polynomial terms of the  data\n",
    "    for p in range(2,n):\n",
    "        X_Valid[p,:] = x_valid.T**p\n",
    "    error = compute_linear_regression_cost(theta_opt, X_Valid, y_valid)\n",
    "    model_errors.append(error)\n",
    "    \n",
    "print(model_errors)"
   ]
  },
  {
   "cell_type": "code",
   "execution_count": 19,
   "metadata": {
    "ExecuteTime": {
     "end_time": "2019-10-14T21:33:13.705173Z",
     "start_time": "2019-10-14T21:33:13.594923Z"
    }
   },
   "outputs": [
    {
     "data": {
      "image/png": "[encoded data removed]",
      "text/plain": [
       "<Figure size 576x432 with 1 Axes>"
      ]
     },
     "metadata": {
      "needs_background": "light"
     },
     "output_type": "display_data"
    }
   ],
   "source": [
    "p = np.arange(1, 11)\n",
    "plt.plot(p, model_errors, 'g^', markersize=10)\n",
    "plt.xlabel('degree of polynomial')\n",
    "plt.xticks(p)\n",
    "plt.ylabel('error')\n",
    "plt.axis([0, 11, 0, 0.05]);"
   ]
  },
  {
   "cell_type": "markdown",
   "metadata": {},
   "source": [
    "So as  you can see in this figure, the model improves greatly on the validation data set from degree = 1 to degree = 6 models.\n",
    "(Best performance occurs for the degree = 5 polynomial model).\n",
    "After that performance gets worse, with maybe a jump and fluctuation happening after degree 6.\n",
    "\n",
    "We can then test the generalization error performance for the degree = 5 model on the test data like this:"
   ]
  },
  {
   "cell_type": "code",
   "execution_count": 20,
   "metadata": {
    "ExecuteTime": {
     "end_time": "2019-10-14T21:33:13.710410Z",
     "start_time": "2019-10-14T21:33:13.706412Z"
    }
   },
   "outputs": [
    {
     "name": "stdout",
     "output_type": "stream",
     "text": [
      "[ 1.83862292 -0.39604419  1.59359571  1.44167014 -1.30384419 -0.57932539]\n",
      "Generalization error for degree 5 model: 0.69732460740902\n"
     ]
    }
   ],
   "source": [
    "theta_opt = models[4] # 0 based indexing, so degree=1 model at index 0, and degree 4 model at index 3\n",
    "print(theta_opt) # compare these to the true values of theta we used to generate the data...\n",
    "n = 6 # degree 5 polynomial model has 6 terms\n",
    "X_Test = np.ones( (n, m_test) ) # add a column of 1s for the bias term\n",
    "X_Test[1,:] = x_test.T # the second column contains the raw inputs\n",
    "error = compute_linear_regression_cost(theta_opt, X_Test, y_test)\n",
    "print(\"Generalization error for degree 5 model:\", error)\n"
   ]
  },
  {
   "cell_type": "markdown",
   "metadata": {},
   "source": [
    "# Video W6 04: Diagnosing Bias vs. Variance\n",
    "\n",
    "\n",
    "[YouTube Video Link](https://www.youtube.com/watch?v=tTSssB9OuI4&index=62&list=PLZ9qNFMHZ-A4rycgrgOYma6zxF4BZGGPW)\n",
    "\n",
    "If your learning algorithm is not performing as well as you like, you almost always have either an overfitting problem\n",
    "(known as a high variance problem ) or an underfitting problem (a problem of high bias).  It is important to determine\n",
    "whether it is bias or variance that is causing a problem with the performance.\n",
    "\n",
    "Just to be clear, lets look at the following figure from the video:\n"
   ]
  },
  {
   "cell_type": "code",
   "execution_count": 21,
   "metadata": {},
   "outputs": [
    {
     "name": "stderr",
     "output_type": "stream",
     "text": [
      "/home/dash/anaconda3/lib/python3.7/site-packages/ipykernel_launcher.py:31: RankWarning: Polyfit may be poorly conditioned\n"
     ]
    },
    {
     "data": {
      "image/png": "[encoded data removed]",
      "text/plain": [
       "<Figure size 1008x576 with 3 Axes>"
      ]
     },
     "metadata": {
      "needs_background": "light"
     },
     "output_type": "display_data"
    }
   ],
   "source": [
    "# generate some quadratic data with just a little noise\n",
    "theta_0 = -10.0\n",
    "theta_1 = 24.0\n",
    "theta_2 = -1.25\n",
    "\n",
    "x = np.linspace(0.0, 10.0, 7)\n",
    "y = theta_0 + theta_1 * x + theta_2 * x**2\n",
    "y = y + np.random.normal(0.0, 8.0, (7,))\n",
    "\n",
    "x_hypothesis = np.linspace(0.0, 10.0, 100)\n",
    "\n",
    "plt.figure(figsize=(14,8))\n",
    "plt.subplot(1,3,1)\n",
    "plt.plot(x, y, 'bo', fillstyle='none')\n",
    "theta = np.polyfit(x, y, 1)\n",
    "h = np.poly1d(theta)\n",
    "plt.plot(x_hypothesis, h(x_hypothesis), 'k-')\n",
    "plt.xlabel('$\\\\theta_0 + \\\\theta_1 x$ \\n High bias (underfit)', fontsize=14)\n",
    "plt.grid();\n",
    "\n",
    "plt.subplot(1, 3, 2)\n",
    "plt.plot(x, y, 'bo', fillstyle='none')\n",
    "theta = np.polyfit(x, y, 2)\n",
    "h = np.poly1d(theta)\n",
    "plt.plot(x_hypothesis, h(x_hypothesis), 'k-')\n",
    "plt.xlabel('$\\\\theta_0 + \\\\theta_1 x + \\\\theta_2 x^2$ \\n \"Just Right\"', fontsize=14)\n",
    "plt.grid();\n",
    "\n",
    "plt.subplot(1, 3, 3)\n",
    "plt.plot(x, y, 'bo', fillstyle='none')\n",
    "theta = np.polyfit(x, y, 10)\n",
    "h = np.poly1d(theta)\n",
    "plt.plot(x_hypothesis, h(x_hypothesis), 'k-')\n",
    "plt.xlabel('$\\\\theta_0 + \\\\theta_1 x + \\\\theta_2 x^2 + \\\\theta_3 x^3 + \\\\theta_4 x^4 + \\cdots$ \\n High variance (overfit)', fontsize=14)\n",
    "plt.grid();"
   ]
  },
  {
   "cell_type": "markdown",
   "metadata": {},
   "source": [
    "As shown in the video, lets plot the training error and the validation error for our previous made up example.  Previously I was\n",
    "only keeping the validation errors, lets rerun but keep both our training error and our validation error.  The training error\n",
    "is actually returned in the final result from the `minimize()` function, and recall it is simply the final computed\n",
    "cost we get after training on the training data from our cost function."
   ]
  },
  {
   "cell_type": "code",
   "execution_count": 22,
   "metadata": {
    "ExecuteTime": {
     "end_time": "2019-10-14T21:33:13.790806Z",
     "start_time": "2019-10-14T21:33:13.711777Z"
    }
   },
   "outputs": [
    {
     "name": "stdout",
     "output_type": "stream",
     "text": [
      "Optimization terminated successfully.\n",
      "         Current function value: 0.037674\n",
      "         Iterations: 4\n",
      "         Function evaluations: 5\n",
      "         Gradient evaluations: 5\n",
      "Optimization terminated successfully.\n",
      "         Current function value: 0.026163\n",
      "         Iterations: 10\n",
      "         Function evaluations: 11\n",
      "         Gradient evaluations: 11\n",
      "Optimization terminated successfully.\n",
      "         Current function value: 0.019103\n",
      "         Iterations: 16\n",
      "         Function evaluations: 17\n",
      "         Gradient evaluations: 17\n",
      "Optimization terminated successfully.\n",
      "         Current function value: 0.014324\n",
      "         Iterations: 27\n",
      "         Function evaluations: 28\n",
      "         Gradient evaluations: 28\n",
      "Optimization terminated successfully.\n",
      "         Current function value: 0.014156\n",
      "         Iterations: 39\n",
      "         Function evaluations: 40\n",
      "         Gradient evaluations: 40\n",
      "Optimization terminated successfully.\n",
      "         Current function value: 0.014100\n",
      "         Iterations: 37\n",
      "         Function evaluations: 38\n",
      "         Gradient evaluations: 38\n",
      "Optimization terminated successfully.\n",
      "         Current function value: 0.010687\n",
      "         Iterations: 71\n",
      "         Function evaluations: 73\n",
      "         Gradient evaluations: 73\n",
      "Optimization terminated successfully.\n",
      "         Current function value: 0.008218\n",
      "         Iterations: 91\n",
      "         Function evaluations: 93\n",
      "         Gradient evaluations: 93\n",
      "Optimization terminated successfully.\n",
      "         Current function value: 0.007613\n",
      "         Iterations: 117\n",
      "         Function evaluations: 118\n",
      "         Gradient evaluations: 118\n",
      "Optimization terminated successfully.\n",
      "         Current function value: 0.007662\n",
      "         Iterations: 109\n",
      "         Function evaluations: 112\n",
      "         Gradient evaluations: 112\n"
     ]
    }
   ],
   "source": [
    "# I assume we still have all of the x_train, x_test, x_valid, etc. data from our previous run\n",
    "\n",
    "# \n",
    "models = []\n",
    "train_errors = [] # hold the final training set errors\n",
    "valid_errors = [] # hold the computed validation set error of the final models\n",
    "\n",
    "for i in range(10):\n",
    "    \n",
    "    # first set up the X matrix with the polynomial terms to train a model with\n",
    "    n = i + 2 # number of parameters in the model, for i=0, we are doing the model with degree 1 polynomial, etc.\n",
    "    X_Train = np.ones( (n, m_train) ) # add a column of 1s for the bias term\n",
    "    X_Train[1,:] = x_train.T # the second column contains the raw inputs\n",
    "    # fill in 3rd and higher columns with polynomial terms of the raw data\n",
    "    for p in range(2,n):\n",
    "        X_Train[p,:] = x_train.T**p\n",
    "        \n",
    "    # now train a model on the degree n-1 polynomial terms in X\n",
    "    theta = np.zeros( (n, 1) )\n",
    "    res = minimize(compute_linear_regression_cost, theta, method='BFGS', \n",
    "                   jac=compute_linear_regression_gradients, \n",
    "                   args=(X_Train, y_train), options={'disp': True, 'maxiter': 200})\n",
    "    theta_opt = res.x # res is an object, the x variable in res has the optimized parameters\n",
    "    models.append(theta_opt)\n",
    "    train_errors.append(res.fun)\n",
    "    \n",
    "    # now compute the cost of this model on the validation data\n",
    "    X_Valid = np.ones( (n, m_valid) ) # add a column of 1s for the bias term\n",
    "    X_Valid[1,:] = x_valid.T # the second column contains the raw inputs\n",
    "    # fill in 3rd and higher columns with polynomial terms of the  data\n",
    "    for p in range(2,n):\n",
    "        X_Valid[p,:] = x_valid.T**p\n",
    "    error = compute_linear_regression_cost(theta_opt, X_Valid, y_valid)\n",
    "    valid_errors.append(error)\n"
   ]
  },
  {
   "cell_type": "markdown",
   "metadata": {},
   "source": [
    "First lets simply plot the training error as a function of the polynomial degree of our model."
   ]
  },
  {
   "cell_type": "code",
   "execution_count": 23,
   "metadata": {
    "ExecuteTime": {
     "end_time": "2019-10-14T21:33:13.912789Z",
     "start_time": "2019-10-14T21:33:13.791805Z"
    }
   },
   "outputs": [
    {
     "data": {
      "image/png": "[encoded data removed]",
      "text/plain": [
       "<Figure size 576x432 with 1 Axes>"
      ]
     },
     "metadata": {
      "needs_background": "light"
     },
     "output_type": "display_data"
    }
   ],
   "source": [
    "d = np.arange(1, 11)\n",
    "plt.plot(d, train_errors, 'g^', markersize=10, label='training errors')\n",
    "plt.plot(d, train_errors, 'g-')\n",
    "plt.xlabel('degree of polynomial')\n",
    "plt.xticks(d)\n",
    "plt.ylabel('error')\n",
    "plt.legend();\n",
    "#plt.axis([0, 11, 0, 0.017])"
   ]
  },
  {
   "cell_type": "markdown",
   "metadata": {},
   "source": [
    "As usual, training error will almost always decress as we use more parameters, as we can better fit (or overfit) the model paramters\n",
    "to the particular data we are training with.\n",
    "\n",
    "\n",
    "Then, as shown in the video, lets overlay with our validation error results."
   ]
  },
  {
   "cell_type": "code",
   "execution_count": 24,
   "metadata": {
    "ExecuteTime": {
     "end_time": "2019-10-14T21:33:14.051954Z",
     "start_time": "2019-10-14T21:33:13.914231Z"
    }
   },
   "outputs": [
    {
     "data": {
      "image/png": "[encoded data removed]",
      "text/plain": [
       "<Figure size 576x432 with 1 Axes>"
      ]
     },
     "metadata": {
      "needs_background": "light"
     },
     "output_type": "display_data"
    }
   ],
   "source": [
    "d = np.arange(1, 11)\n",
    "\n",
    "# training errors\n",
    "plt.plot(d, train_errors, 'g^', markersize=10, label='training errors')\n",
    "plt.plot(d, train_errors, 'g-')\n",
    "\n",
    "# validation errors\n",
    "plt.plot(d, valid_errors, 'bo', markersize=10, label='validation errors')\n",
    "plt.plot(d, valid_errors, 'b-')\n",
    "\n",
    "# labels and such\n",
    "plt.xlabel('degree of polynomial')\n",
    "plt.xticks(d)\n",
    "plt.ylabel('error')\n",
    "plt.legend();\n",
    "#plt.axis([0, 11, 0, 0.017]);"
   ]
  },
  {
   "cell_type": "markdown",
   "metadata": {},
   "source": [
    "So the result is similar to what the video discusses.  The training and validation errors reduce till about degree 4\n",
    "(the bias or underfitted regime).  On the other side of the graph, the validation errors can begin increassing, indicating\n",
    "a variance regieme where we are possibly overfitting.\n",
    "\n",
    "I did pick the random model and randomly generated data a bit to try and illustrate what was shown in the video.  If you try\n",
    "generating your own data, like add more or less noise, or use fewer or greater number of points in the data\n",
    "(or simply set the random seed to something different), you will see that things can really be quite a bit more messy, even\n",
    "for this made up example.  You won't always see the clear type of figure as shown when comparing the training and validation\n",
    "errors across models.  \n",
    "\n",
    "<img src=\"files/figures/bias-vs-variance.png\">"
   ]
  },
  {
   "cell_type": "markdown",
   "metadata": {},
   "source": [
    "# Video W6 05: Regularization and Bias\n",
    "\n",
    "[YouTube Video Link](https://www.youtube.com/watch?v=yq-9A5P-cXw&list=PLZ9qNFMHZ-A4rycgrgOYma6zxF4BZGGPW&index=63)\n",
    "\n",
    "After the discussion in more detail of bias and variance, the use of the regularization term in linear and logistic regression\n",
    "will probably make more sense now.  The regularization parameter is there in such models to directly allow us to try and tune\n",
    "models so that they are neither too high on variance or too high on bias (but are instead just right).\n",
    "\n",
    "Because of the definition of the regularization parameter in our cost functions, we can actually systematically try (and even\n",
    "automate) the task of finding the best value for $\\lambda$ in order to balance the bias and variance for a given model\n",
    "we are trying to build.  The idea is similar to how we used the cross validation set to determine the degree polynomial that\n",
    "is best before, but here we compare the regularization paramter.\n",
    "\n",
    "## Linear regression with regularization\n",
    "\n",
    "**Model**:\n",
    "\n",
    "\\begin{equation}\n",
    "h_{\\theta}(x) = \\theta_0 + \\theta_1 x + \\theta_2 x^2 + \\theta_3 x^3 + \\theta_4 x^4\n",
    "\\end{equation}\n",
    "\n",
    "**Cost**:\n",
    "\n",
    "\\begin{equation}\n",
    "J(\\theta) = \\frac{1}{2m} \\sum_{i=1}^{m} \\big( h_{\\theta}(x^{(i)}) - y^{(i)}  \\big)^2 + \\frac{\\lambda}{2m} \\sum_{j=1}^m \\theta_j^2\n",
    "\\end{equation}\n",
    "\n",
    "\n",
    "- If Large $\\lambda$\n",
    "  - High bias (underfit)\n",
    "  - $\\lambda = 10000. \\theta_1 \\approx 0, \\theta_2 \\approx 0, \\cdots \\;\\;\\; h_{\\theta} \\approx \\theta_0$\n",
    "- Intermediate $\\lambda$\n",
    "  - \"Just right\"\n",
    "- Small $\\lambda$\n",
    "  - High variance (overfit)\n",
    "  - $\\lambda = 0$ will fit all $\\theta$ terms, which might overfit if polynomial is smaller than degree 4.\n",
    "  \n",
    "## Choosing the regularization parameter $\\lambda$\n",
    "\n",
    "To determine what, if any, level of regularization is needed, can do basically something like a grid search.\n",
    "\n",
    "1. Try $\\lambda = 0$\n",
    "2. Try $\\lambda = 0.01$\n",
    "3. Try $\\lambda = 0.02$\n",
    "4. Try $\\lambda = 0.04$\n",
    "5. Try $\\lambda = 0.08$\n",
    "\n",
    "...\n",
    "\n",
    "12. Try $\\lambda = 10$\n",
    "\n",
    "\n",
    "\n",
    "- Split data into train, validation, test (typical is a 60%/20%/20% split).\n",
    "- Create and fit a model for each regularization setting using training data\n",
    "- Evaluate performance on a cross validation set.\n",
    "- Best performance will be used to select $\\lambda$ to use.\n",
    "- Evaluate final performance on test set that was never seen before in the cross validation training.\n",
    "\n",
    "## Scikit-learn Hyperparameter Optimization\n",
    "\n",
    "The `scikit-learn` packages have some support for automatically doing some forms of hyperparameter\n",
    "exploration and optimization, like the description of the parameter grid search described here.  Most of\n",
    "the functions for doing explortion and optimization of hyperparameters are found in the `model_selection`\n",
    "sub library of `scikit-learn`\n",
    "\n",
    "[scikit-learn model_selection](https://scikit-learn.org/stable/modules/classes.html#module-sklearn.model_selection)"
   ]
  },
  {
   "cell_type": "markdown",
   "metadata": {},
   "source": [
    "# Video W6 06: Learning Curves\n",
    "\n",
    "[YouTube Video Link](https://www.youtube.com/watch?v=rczX4iAHhS0&list=PLZ9qNFMHZ-A4rycgrgOYma6zxF4BZGGPW&index=64)\n",
    "\n",
    "Learning curves are a very valuable tool in order to sanity check that the learning/optimization of your machine learning \n",
    "model is working correctly.\n",
    "\n",
    "Learning curves are where we plot training and test/cv cost as a function of training set size.  But we\n",
    "artifically manipulate our training set to vary the training set size from $m=1$ up to the number of\n",
    "examples in our training set.\n",
    "\n",
    "When $m$ is small you will be able to fit your training examples perfectly, so training error will be small.\n",
    "As $m$ increases it gets harder and harder to fit all points perfectly.  So as $m$ increases the training error\n",
    "will increase.\n",
    "\n",
    "However for testing or cv data, when $m$ is small you won't generally well at all, so the cost will be high.  But\n",
    "as more and more training examples are used, the test or cv cost will go down (until/unless yu start overfitting).\n",
    "\n",
    "So if you model is having problems because of High Bias, the learning curve plots will look like the following:\n",
    "\n",
    "<img src=\"files/figures/learning-curve-high-bias.png\">"
   ]
  },
  {
   "cell_type": "markdown",
   "metadata": {},
   "source": [
    "However if you plot the learning curve of $m$ training set size to the cost, you will see something different\n",
    "if you are suffering from overfitting (high variance).  Conceptually you will see learning curves that look like this:\n",
    "\n",
    "<img src=\"files/figures/learning-curve-high-variance.png\">"
   ]
  },
  {
   "cell_type": "markdown",
   "metadata": {},
   "source": [
    "# Video W6 07: Deciding What to Do Next Revisited\n",
    "\n",
    "[YouTube Video Link](https://www.youtube.com/watch?v=Kum1UFqKEp4&index=65&list=PLZ9qNFMHZ-A4rycgrgOYma6zxF4BZGGPW)\n",
    "\n",
    "What should you try next?\n",
    "\n",
    "- Get more training examples  $\\rightarrow$ fixes high variance\n",
    "- Try a smaller set of features $\\rightarrow$ fixes high variance\n",
    "- Try getting additional features $\\rightarrow$ fixes high bias\n",
    "- Try adding polynomial features (e.g. $x_1^2, x_2^2, x_1x_2$, etc.) $\\rightarrow$ fixes high bias\n",
    "- Try decreasing the regularization parameter $\\lambda$ $\\rightarrow$ fixes high bias\n",
    "- Try increasing the regularization parameter $\\lambda$ $\\rightarrow$ fixes high variance\n",
    "\n"
   ]
  }
 ],
 "metadata": {
  "kernelspec": {
   "display_name": "Python 3",
   "language": "python",
   "name": "python3"
  },
  "language_info": {
   "codemirror_mode": {
    "name": "ipython",
    "version": 3
   },
   "file_extension": ".py",
   "mimetype": "text/x-python",
   "name": "python",
   "nbconvert_exporter": "python",
   "pygments_lexer": "ipython3",
   "version": "3.7.3"
  },
  "latex_envs": {
   "LaTeX_envs_menu_present": true,
   "autoclose": false,
   "autocomplete": true,
   "bibliofile": "biblio.bib",
   "cite_by": "apalike",
   "current_citInitial": 1,
   "eqLabelWithNumbers": true,
   "eqNumInitial": 1,
   "hotkeys": {
    "equation": "Ctrl-E",
    "itemize": "Ctrl-I"
   },
   "labels_anchors": false,
   "latex_user_defs": false,
   "report_style_numbering": false,
   "user_envs_cfg": false
  },
  "toc": {
   "base_numbering": 1,
   "nav_menu": {},
   "number_sections": true,
   "sideBar": true,
   "skip_h1_title": false,
   "title_cell": "Table of Contents",
   "title_sidebar": "Contents",
   "toc_cell": false,
   "toc_position": {
    "height": "calc(100% - 180px)",
    "left": "10px",
    "top": "150px",
    "width": "278.667px"
   },
   "toc_section_display": true,
   "toc_window_display": true
  },
  "varInspector": {
   "cols": {
    "lenName": 16,
    "lenType": 16,
    "lenVar": 40
   },
   "kernels_config": {
    "python": {
     "delete_cmd_postfix": "",
     "delete_cmd_prefix": "del ",
     "library": "var_list.py",
     "varRefreshCmd": "print(var_dic_list())"
    },
    "r": {
     "delete_cmd_postfix": ") ",
     "delete_cmd_prefix": "rm(",
     "library": "var_list.r",
     "varRefreshCmd": "cat(var_dic_list()) "
    }
   },
   "types_to_exclude": [
    "module",
    "function",
    "builtin_function_or_method",
    "instance",
    "_Feature"
   ],
   "window_display": false
  }
 },
 "nbformat": 4,
 "nbformat_minor": 1
}
