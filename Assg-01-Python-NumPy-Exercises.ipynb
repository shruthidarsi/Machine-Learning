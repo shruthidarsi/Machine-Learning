{
 "cells": [
  {
   "cell_type": "markdown",
   "metadata": {},
   "source": [
    "Assignment 01 - Python, NumPy, Matplotlib and Pandas\n",
    "----------------------------\n",
    "\n",
    "**Due: Fri 09/07/2018**\n"
   ]
  },
  {
   "cell_type": "markdown",
   "metadata": {},
   "source": [
    "Name: *Shruthi Madishetty*\n",
    "\n",
    "CWID-5: 39178"
   ]
  },
  {
   "cell_type": "code",
   "execution_count": 133,
   "metadata": {},
   "outputs": [],
   "source": [
    "import numpy as np\n",
    "import scipy as sp\n",
    "import matplotlib.pyplot as plt\n",
    "import pandas as pd\n",
    "%matplotlib inline"
   ]
  },
  {
   "cell_type": "markdown",
   "metadata": {},
   "source": [
    "Problem 1: Python Function\n",
    "--------------------------\n",
    "\n",
    "Euclid showed that the greatest common divisor `gcd(m, n)` of two nonnegative integers $m$ and\n",
    "$n$ satisfies the following mathematical (recursive) definition:\n",
    "\n",
    "$$\n",
    "gcd(m, n) = \\begin{cases}\n",
    "    m & \\displaystyle \\text{if} \\quad n = 0 \\\\\n",
    "    gcd(n, m \\; \\text{mod} \\; n) & \\text{if} \\quad n > 0 \\\\\n",
    "\\end{cases}\n",
    "$$\n",
    "\n",
    "Write a Python function, named `gcd`, that implements this mathematical expression to find the\n",
    "greatest common divisor.  Your function should take two parameters as input, `m` and `n`.\n",
    "These parameters are assumed to positive (or 0) integers. The `gcd`\n",
    "function should be a recursive function, it will call itself for cases where $n > 0$  Your \n",
    "function will return a single integer value as its result.\n",
    " \n",
    "\n",
    "Here is an example of using the function, and the correct results you should get for several invocations.\n",
    "\n",
    "    print( gcd(108, 192) )\n",
    "    >>> 12\n",
    "    print( gcd(9, 3) )\n",
    "    >>> 3\n",
    "    print( gcd(107, 192) ) # 107 is prime, so...\n",
    "    >>> 1"
   ]
  },
  {
   "cell_type": "code",
   "execution_count": 134,
   "metadata": {},
   "outputs": [],
   "source": [
    "def gcd(m, n):\n",
    "    if m==0:\n",
    "        return n\n",
    "    elif n ==0:\n",
    "        return m\n",
    "    else:\n",
    "        if(m > n):\n",
    "            dividend = m\n",
    "            divisor = n\n",
    "        else:\n",
    "            divisor = m\n",
    "            dividend = n\n",
    "        remainder = dividend % divisor\n",
    "        result = gcd(remainder, divisor) \n",
    "    return result"
   ]
  },
  {
   "cell_type": "code",
   "execution_count": 135,
   "metadata": {},
   "outputs": [
    {
     "name": "stdout",
     "output_type": "stream",
     "text": [
      "12\n"
     ]
    }
   ],
   "source": [
    "print(gcd(108, 192))"
   ]
  },
  {
   "cell_type": "markdown",
   "metadata": {},
   "source": [
    "Problem 2: NumPy Operations\n",
    "---------------------------\n",
    "\n",
    "For all of the tasks for this problem you are required to use NumPy array operations and library functions exclusively to solve them.  It is\n",
    "incorrect to use any Python loops or if condition statements to solve these tasks.\n",
    "\n",
    "Create a (36,) shaped vector called `v`, containing floating point values $1.0, 2.0, 3.0, ..., 36.0$\n",
    "Using `v` and the `reshape` NymPy function, create arrays called `a` and `b` that are (6,6) two dimensional, and (3, 4, 3) three\n",
    "dimensional views into v."
   ]
  },
  {
   "cell_type": "code",
   "execution_count": 136,
   "metadata": {},
   "outputs": [],
   "source": [
    "v = np.arange(1.0,37.0)\n",
    "a = v.reshape((6,6))\n",
    "b = v.reshape((3,4,3))\n"
   ]
  },
  {
   "cell_type": "markdown",
   "metadata": {},
   "source": [
    "Using fancy indexing (no loops, must use NumPy functions/operations), change all odd values of your a array to their negative (e.g. 1 should\n",
    "be -1, 3, should be -3, etc, but even values are left unchanged), and assign the results back into a.  You might want to, for example,\n",
    "use the modulus operator (%) to  create an index mask to perform this using fancy indexing."
   ]
  },
  {
   "cell_type": "code",
   "execution_count": 137,
   "metadata": {},
   "outputs": [
    {
     "name": "stdout",
     "output_type": "stream",
     "text": [
      "(6, 6)\n"
     ]
    }
   ],
   "source": [
    "mask = [a%2 > 0]\n",
    "mask \n",
    "\n",
    "print(a.shape)"
   ]
  },
  {
   "cell_type": "markdown",
   "metadata": {},
   "source": [
    "Now multiply all values in array `a` where $a >= 0$ by $2.5$ and assign the results back into a.\n",
    "\n",
    "After performing the previous 2 steps on a, the values in a should now be:\n",
    "\n",
    "    print(a)\n",
    "    >>>\n",
    "    [[ -1.   5.  -3.  10.  -5.  15.]\n",
    "     [ -7.  20.  -9.  25. -11.  30.]\n",
    "     [-13.  35. -15.  40. -17.  45.]\n",
    "     [-19.  50. -21.  55. -23.  60.]\n",
    "     [-25.  65. -27.  70. -29.  75.]\n",
    "     [-31.  80. -33.  85. -35.  90.]] \n",
    "     \n",
    "    print( a.shape )\n",
    "    >>> (6, 6)"
   ]
  },
  {
   "cell_type": "code",
   "execution_count": 138,
   "metadata": {},
   "outputs": [
    {
     "name": "stdout",
     "output_type": "stream",
     "text": [
      "[[ -1.   2.  -3.   4.  -5.   6.]\n",
      " [ -7.   8.  -9.  10. -11.  12.]\n",
      " [-13.  14. -15.  16. -17.  18.]\n",
      " [-19.  20. -21.  22. -23.  24.]\n",
      " [-25.  26. -27.  28. -29.  30.]\n",
      " [-31.  32. -33.  34. -35.  36.]]\n"
     ]
    },
    {
     "name": "stderr",
     "output_type": "stream",
     "text": [
      "/Users/pavanshru/anaconda3/lib/python3.7/site-packages/ipykernel_launcher.py:1: FutureWarning: Using a non-tuple sequence for multidimensional indexing is deprecated; use `arr[tuple(seq)]` instead of `arr[seq]`. In the future this will be interpreted as an array index, `arr[np.array(seq)]`, which will result either in an error or a different result.\n",
      "  \"\"\"Entry point for launching an IPython kernel.\n"
     ]
    }
   ],
   "source": [
    "a[mask] = -1 * a[mask]\n",
    "print(a)"
   ]
  },
  {
   "cell_type": "markdown",
   "metadata": {},
   "source": [
    "Create a new array, called, c, of random floating point values in the range $0.0 .. 1.0$.  The c array should have 25 rows and 8 columns.\n",
    "Create a vector called row_min that contains the minimum value for each of the 25 rows (this implies the shape of this vector will be (25,))\n",
    "Create a vector called col_max that contains the maximum value for each of the 8 columns (col_max will be a vector of shape (8,))"
   ]
  },
  {
   "cell_type": "code",
   "execution_count": 139,
   "metadata": {},
   "outputs": [
    {
     "name": "stdout",
     "output_type": "stream",
     "text": [
      "[0.32231571 0.30169036 0.04364975 0.07869474 0.08746161 0.00696917\n",
      " 0.07479911 0.04659403 0.09235578 0.03034652 0.03583299 0.34152319\n",
      " 0.0262961  0.00047221 0.15539351 0.02384456 0.10369545 0.03695699\n",
      " 0.02750742 0.02658163 0.06073991 0.09695882 0.03177733 0.12154105\n",
      " 0.02284939]\n",
      "[0.96642256 0.96387646 0.96422884 0.9858613  0.98877568 0.95425857\n",
      " 0.89948336 0.97137316]\n"
     ]
    }
   ],
   "source": [
    "c = np.random.random_sample((25, 8))\n",
    "row_min = np.amin(c, axis=1)\n",
    "print(row_min)\n",
    "col_max = np.amax(c, axis=0)\n",
    "print(col_max)"
   ]
  },
  {
   "cell_type": "markdown",
   "metadata": {},
   "source": [
    "Problem 3: Vectorized Functions and Plotting\n",
    "--------------------------------------------\n",
    "\n",
    "The following equations are known as the *deltoid* curve:\n",
    "\n",
    "\n",
    "$x = 2 \\; \\text{cos} \\; \\theta + \\text{cos} \\; 2 \\theta$\n",
    "\n",
    "$y = 2 \\; \\text{sin} \\; \\theta - \\text{sin} \\; 2 \\theta$\n",
    "\n",
    "Where $0 \\le \\theta \\le 2 \\pi$.  Take a set of values of $\\theta$ ranging from $0$ to $2\\pi$\n",
    "and calculate $x$ and $y$ from each of the equations above.  Then plot $y$ as a function of $x$.\n"
   ]
  },
  {
   "cell_type": "code",
   "execution_count": 140,
   "metadata": {},
   "outputs": [
    {
     "data": {
      "text/plain": [
       "[<matplotlib.lines.Line2D at 0x114b7dcf8>]"
      ]
     },
     "execution_count": 140,
     "metadata": {},
     "output_type": "execute_result"
    },
    {
     "data": {
      "image/png": "[encoded data removed]",
      "text/plain": [
       "<Figure size 432x288 with 1 Axes>"
      ]
     },
     "metadata": {
      "needs_background": "light"
     },
     "output_type": "display_data"
    }
   ],
   "source": [
    "𝜃 = np.linspace(0, 2*np.pi, 100)\n",
    "x = 2 * np.cos(𝜃) + np.cos(2 *𝜃)\n",
    "y = 2 * np.sin(𝜃) - np.sin(2*𝜃)\n",
    "\n",
    "plt.plot(x,y)"
   ]
  },
  {
   "cell_type": "markdown",
   "metadata": {},
   "source": [
    "Problem 4: Pandas\n",
    "-----------------\n",
    "\n",
    "There is a file in your repository assignments directory, under the data subdirectory,\n",
    "called `assg-01-data.csv` formatted using comma separated values.  This file\n",
    "contains 15 lines of sales data.  Read the data into a `Pandas` data frame simply named `d`, and display the \n",
    "first 5 lines of data using the `head()`\n",
    "member function.  Display the last 5 lines of the data using the `tail()` member function."
   ]
  },
  {
   "cell_type": "code",
   "execution_count": 141,
   "metadata": {},
   "outputs": [
    {
     "data": {
      "text/html": [
       "<div>\n",
       "<style scoped>\n",
       "    .dataframe tbody tr th:only-of-type {\n",
       "        vertical-align: middle;\n",
       "    }\n",
       "\n",
       "    .dataframe tbody tr th {\n",
       "        vertical-align: top;\n",
       "    }\n",
       "\n",
       "    .dataframe thead th {\n",
       "        text-align: right;\n",
       "    }\n",
       "</style>\n",
       "<table border=\"1\" class=\"dataframe\">\n",
       "  <thead>\n",
       "    <tr style=\"text-align: right;\">\n",
       "      <th></th>\n",
       "      <th>account</th>\n",
       "      <th>name</th>\n",
       "      <th>street</th>\n",
       "      <th>city</th>\n",
       "      <th>state</th>\n",
       "      <th>postal-code</th>\n",
       "      <th>Jan</th>\n",
       "      <th>Feb</th>\n",
       "      <th>Mar</th>\n",
       "    </tr>\n",
       "  </thead>\n",
       "  <tbody>\n",
       "    <tr>\n",
       "      <th>0</th>\n",
       "      <td>211829</td>\n",
       "      <td>Kerluke, Koepp and Hilpert</td>\n",
       "      <td>34456 Sean Highway</td>\n",
       "      <td>New Jaycob</td>\n",
       "      <td>Texas</td>\n",
       "      <td>28752.0</td>\n",
       "      <td>10000</td>\n",
       "      <td>62000</td>\n",
       "      <td>35000</td>\n",
       "    </tr>\n",
       "    <tr>\n",
       "      <th>1</th>\n",
       "      <td>320563</td>\n",
       "      <td>Walter-Trantow</td>\n",
       "      <td>1311 Alvis Tunnel</td>\n",
       "      <td>Port Khadijah</td>\n",
       "      <td>NorthCarolina</td>\n",
       "      <td>38365.0</td>\n",
       "      <td>95000</td>\n",
       "      <td>45000</td>\n",
       "      <td>35000</td>\n",
       "    </tr>\n",
       "    <tr>\n",
       "      <th>2</th>\n",
       "      <td>648336</td>\n",
       "      <td>Bashirian, Kunde and Price</td>\n",
       "      <td>62184 Schamberger Underpass Apt. 231</td>\n",
       "      <td>New Lilianland</td>\n",
       "      <td>Iowa</td>\n",
       "      <td>NaN</td>\n",
       "      <td>91000</td>\n",
       "      <td>120000</td>\n",
       "      <td>35000</td>\n",
       "    </tr>\n",
       "    <tr>\n",
       "      <th>3</th>\n",
       "      <td>109996</td>\n",
       "      <td>D'Amore, Gleichner and Bode</td>\n",
       "      <td>155 Fadel Crescent Apt. 144</td>\n",
       "      <td>Hyattburgh</td>\n",
       "      <td>Maine</td>\n",
       "      <td>46021.0</td>\n",
       "      <td>45000</td>\n",
       "      <td>120000</td>\n",
       "      <td>10000</td>\n",
       "    </tr>\n",
       "    <tr>\n",
       "      <th>4</th>\n",
       "      <td>121213</td>\n",
       "      <td>Bauch-Goldner</td>\n",
       "      <td>7274 Marissa Common</td>\n",
       "      <td>Shanahanchester</td>\n",
       "      <td>California</td>\n",
       "      <td>49681.0</td>\n",
       "      <td>162000</td>\n",
       "      <td>120000</td>\n",
       "      <td>35000</td>\n",
       "    </tr>\n",
       "  </tbody>\n",
       "</table>\n",
       "</div>"
      ],
      "text/plain": [
       "   account                         name                                street  \\\n",
       "0   211829   Kerluke, Koepp and Hilpert                    34456 Sean Highway   \n",
       "1   320563               Walter-Trantow                     1311 Alvis Tunnel   \n",
       "2   648336   Bashirian, Kunde and Price  62184 Schamberger Underpass Apt. 231   \n",
       "3   109996  D'Amore, Gleichner and Bode           155 Fadel Crescent Apt. 144   \n",
       "4   121213                Bauch-Goldner                   7274 Marissa Common   \n",
       "\n",
       "              city          state  postal-code     Jan     Feb    Mar  \n",
       "0       New Jaycob          Texas      28752.0   10000   62000  35000  \n",
       "1    Port Khadijah  NorthCarolina      38365.0   95000   45000  35000  \n",
       "2   New Lilianland           Iowa          NaN   91000  120000  35000  \n",
       "3       Hyattburgh          Maine      46021.0   45000  120000  10000  \n",
       "4  Shanahanchester     California      49681.0  162000  120000  35000  "
      ]
     },
     "execution_count": 141,
     "metadata": {},
     "output_type": "execute_result"
    }
   ],
   "source": [
    "d = pd.read_csv(\"data/assg-01-data.csv\", na_values=[\" \"])\n",
    "d.head()"
   ]
  },
  {
   "cell_type": "code",
   "execution_count": 142,
   "metadata": {},
   "outputs": [
    {
     "data": {
      "text/html": [
       "<div>\n",
       "<style scoped>\n",
       "    .dataframe tbody tr th:only-of-type {\n",
       "        vertical-align: middle;\n",
       "    }\n",
       "\n",
       "    .dataframe tbody tr th {\n",
       "        vertical-align: top;\n",
       "    }\n",
       "\n",
       "    .dataframe thead th {\n",
       "        text-align: right;\n",
       "    }\n",
       "</style>\n",
       "<table border=\"1\" class=\"dataframe\">\n",
       "  <thead>\n",
       "    <tr style=\"text-align: right;\">\n",
       "      <th></th>\n",
       "      <th>account</th>\n",
       "      <th>name</th>\n",
       "      <th>street</th>\n",
       "      <th>city</th>\n",
       "      <th>state</th>\n",
       "      <th>postal-code</th>\n",
       "      <th>Jan</th>\n",
       "      <th>Feb</th>\n",
       "      <th>Mar</th>\n",
       "    </tr>\n",
       "  </thead>\n",
       "  <tbody>\n",
       "    <tr>\n",
       "      <th>10</th>\n",
       "      <td>214098</td>\n",
       "      <td>Goodwin, Homenick and Jerde</td>\n",
       "      <td>649 Cierra Forks Apt. 078</td>\n",
       "      <td>Rosaberg</td>\n",
       "      <td>Tenessee</td>\n",
       "      <td>47743.0</td>\n",
       "      <td>45000</td>\n",
       "      <td>120000</td>\n",
       "      <td>55000</td>\n",
       "    </tr>\n",
       "    <tr>\n",
       "      <th>11</th>\n",
       "      <td>231907</td>\n",
       "      <td>Hahn-Moore</td>\n",
       "      <td>18115 Olivine Throughway</td>\n",
       "      <td>Norbertomouth</td>\n",
       "      <td>NorthDakota</td>\n",
       "      <td>31415.0</td>\n",
       "      <td>150000</td>\n",
       "      <td>10000</td>\n",
       "      <td>162000</td>\n",
       "    </tr>\n",
       "    <tr>\n",
       "      <th>12</th>\n",
       "      <td>242368</td>\n",
       "      <td>Frami, Anderson and Donnelly</td>\n",
       "      <td>NaN</td>\n",
       "      <td>East Davian</td>\n",
       "      <td>Iowa</td>\n",
       "      <td>72686.0</td>\n",
       "      <td>162000</td>\n",
       "      <td>120000</td>\n",
       "      <td>35000</td>\n",
       "    </tr>\n",
       "    <tr>\n",
       "      <th>13</th>\n",
       "      <td>268755</td>\n",
       "      <td>Walsh-Haley</td>\n",
       "      <td>2624 Beatty Parkways</td>\n",
       "      <td>Goodwinmouth</td>\n",
       "      <td>NaN</td>\n",
       "      <td>31919.0</td>\n",
       "      <td>55000</td>\n",
       "      <td>120000</td>\n",
       "      <td>35000</td>\n",
       "    </tr>\n",
       "    <tr>\n",
       "      <th>14</th>\n",
       "      <td>273274</td>\n",
       "      <td>McDermott PLC</td>\n",
       "      <td>8917 Bergstrom Meadow</td>\n",
       "      <td>Kathryneborough</td>\n",
       "      <td>Delaware</td>\n",
       "      <td>27933.0</td>\n",
       "      <td>150000</td>\n",
       "      <td>120000</td>\n",
       "      <td>70000</td>\n",
       "    </tr>\n",
       "  </tbody>\n",
       "</table>\n",
       "</div>"
      ],
      "text/plain": [
       "    account                          name                     street  \\\n",
       "10   214098   Goodwin, Homenick and Jerde  649 Cierra Forks Apt. 078   \n",
       "11   231907                    Hahn-Moore   18115 Olivine Throughway   \n",
       "12   242368  Frami, Anderson and Donnelly                        NaN   \n",
       "13   268755                   Walsh-Haley       2624 Beatty Parkways   \n",
       "14   273274                 McDermott PLC      8917 Bergstrom Meadow   \n",
       "\n",
       "               city        state  postal-code     Jan     Feb     Mar  \n",
       "10         Rosaberg     Tenessee      47743.0   45000  120000   55000  \n",
       "11    Norbertomouth  NorthDakota      31415.0  150000   10000  162000  \n",
       "12      East Davian         Iowa      72686.0  162000  120000   35000  \n",
       "13     Goodwinmouth          NaN      31919.0   55000  120000   35000  \n",
       "14  Kathryneborough     Delaware      27933.0  150000  120000   70000  "
      ]
     },
     "execution_count": 142,
     "metadata": {},
     "output_type": "execute_result"
    }
   ],
   "source": [
    "d.tail()"
   ]
  },
  {
   "cell_type": "markdown",
   "metadata": {},
   "source": [
    "As you should be able to see, the data consists of some customer sales' information, along with the customer address.  \n",
    "The data contains sales information for 3 months.\n",
    "\n",
    "In the next cell, create a new column in your `Pandas` data frame named `total`.  This column should contain the total\n",
    "sales for each row for the 3 months of data present."
   ]
  },
  {
   "cell_type": "code",
   "execution_count": 143,
   "metadata": {},
   "outputs": [
    {
     "name": "stdout",
     "output_type": "stream",
     "text": [
      "    account                              name  \\\n",
      "0    211829        Kerluke, Koepp and Hilpert   \n",
      "1    320563                    Walter-Trantow   \n",
      "2    648336        Bashirian, Kunde and Price   \n",
      "3    109996       D'Amore, Gleichner and Bode   \n",
      "4    121213                     Bauch-Goldner   \n",
      "5    132971  Williamson, Schumm and Hettinger   \n",
      "6    145068                        Casper LLC   \n",
      "7    205217                  Kovacek-Johnston   \n",
      "8    209744                    Champlin-Morar   \n",
      "9    212303                    Gerhold-Maggio   \n",
      "10   214098       Goodwin, Homenick and Jerde   \n",
      "11   231907                        Hahn-Moore   \n",
      "12   242368      Frami, Anderson and Donnelly   \n",
      "13   268755                       Walsh-Haley   \n",
      "14   273274                     McDermott PLC   \n",
      "\n",
      "                                  street               city          state  \\\n",
      "0                     34456 Sean Highway         New Jaycob          Texas   \n",
      "1                      1311 Alvis Tunnel      Port Khadijah  NorthCarolina   \n",
      "2   62184 Schamberger Underpass Apt. 231     New Lilianland           Iowa   \n",
      "3            155 Fadel Crescent Apt. 144         Hyattburgh          Maine   \n",
      "4                    7274 Marissa Common    Shanahanchester     California   \n",
      "5                   89403 Casimer Spring       Jeremieburgh       Arkansas   \n",
      "6           340 Consuela Bridge Apt. 400  Lake Gabriellaton     Mississipi   \n",
      "7           91971 Cronin Vista Suite 601         Deronville    RhodeIsland   \n",
      "8                       26739 Grant Lock    Lake Juliannton   Pennsylvania   \n",
      "9              366 Maggio Grove Apt. 998          North Ras            NaN   \n",
      "10             649 Cierra Forks Apt. 078           Rosaberg       Tenessee   \n",
      "11              18115 Olivine Throughway      Norbertomouth    NorthDakota   \n",
      "12                                   NaN        East Davian           Iowa   \n",
      "13                  2624 Beatty Parkways       Goodwinmouth            NaN   \n",
      "14                 8917 Bergstrom Meadow    Kathryneborough       Delaware   \n",
      "\n",
      "    postal-code     Jan     Feb     Mar   Total  \n",
      "0       28752.0   10000   62000   35000  107000  \n",
      "1       38365.0   95000   45000   35000  175000  \n",
      "2           NaN   91000  120000   35000  246000  \n",
      "3       46021.0   45000  120000   10000  175000  \n",
      "4       49681.0  162000  120000   35000  317000  \n",
      "5       62785.0  150000  120000   35000  305000  \n",
      "6       18008.0   62000  120000   70000  252000  \n",
      "7       53461.0  145000   95000   35000  275000  \n",
      "8       64415.0   70000   95000   35000  200000  \n",
      "9       46308.0   70000  120000   35000  225000  \n",
      "10      47743.0   45000  120000   55000  220000  \n",
      "11      31415.0  150000   10000  162000  322000  \n",
      "12      72686.0  162000  120000   35000  317000  \n",
      "13      31919.0   55000  120000   35000  210000  \n",
      "14      27933.0  150000  120000   70000  340000  \n"
     ]
    }
   ],
   "source": [
    "d['Total'] = d.apply(lambda col:col.Jan+col.Feb + col.Mar, axis=1)\n",
    "print(d)"
   ]
  },
  {
   "cell_type": "markdown",
   "metadata": {},
   "source": [
    "Using pandas data frame operations only, find out the following information:\n",
    "\n",
    "- The total sum of sales in the month of Jan\n",
    "- The minimum sales amount in the month of Feb\n",
    "- The average (mean) sales for the month of Mar"
   ]
  },
  {
   "cell_type": "code",
   "execution_count": 144,
   "metadata": {},
   "outputs": [
    {
     "name": "stdout",
     "output_type": "stream",
     "text": [
      "1462000\n",
      "10000\n",
      "47800\n"
     ]
    }
   ],
   "source": [
    "total_sales_jan = d['Jan'].sum()\n",
    "print(total_sales_jan)\n",
    "min_sale_feb = d['Feb'].min()\n",
    "print(min_sale_feb)\n",
    "mar_mean = d['Mar'].mean()\n",
    "print(round(mar_mean))"
   ]
  },
  {
   "cell_type": "markdown",
   "metadata": {},
   "source": [
    "In the next cell, create a dataframe called `d2` that only contains rows of data in d that don't have any missing (`NaN`) values."
   ]
  },
  {
   "cell_type": "code",
   "execution_count": 145,
   "metadata": {},
   "outputs": [
    {
     "name": "stdout",
     "output_type": "stream",
     "text": [
      "15\n",
      "11\n",
      "    account                              name                        street  \\\n",
      "0    211829        Kerluke, Koepp and Hilpert            34456 Sean Highway   \n",
      "1    320563                    Walter-Trantow             1311 Alvis Tunnel   \n",
      "3    109996       D'Amore, Gleichner and Bode   155 Fadel Crescent Apt. 144   \n",
      "4    121213                     Bauch-Goldner           7274 Marissa Common   \n",
      "5    132971  Williamson, Schumm and Hettinger          89403 Casimer Spring   \n",
      "6    145068                        Casper LLC  340 Consuela Bridge Apt. 400   \n",
      "7    205217                  Kovacek-Johnston  91971 Cronin Vista Suite 601   \n",
      "8    209744                    Champlin-Morar              26739 Grant Lock   \n",
      "10   214098       Goodwin, Homenick and Jerde     649 Cierra Forks Apt. 078   \n",
      "11   231907                        Hahn-Moore      18115 Olivine Throughway   \n",
      "14   273274                     McDermott PLC         8917 Bergstrom Meadow   \n",
      "\n",
      "                 city          state  postal-code     Jan     Feb     Mar  \\\n",
      "0          New Jaycob          Texas      28752.0   10000   62000   35000   \n",
      "1       Port Khadijah  NorthCarolina      38365.0   95000   45000   35000   \n",
      "3          Hyattburgh          Maine      46021.0   45000  120000   10000   \n",
      "4     Shanahanchester     California      49681.0  162000  120000   35000   \n",
      "5        Jeremieburgh       Arkansas      62785.0  150000  120000   35000   \n",
      "6   Lake Gabriellaton     Mississipi      18008.0   62000  120000   70000   \n",
      "7          Deronville    RhodeIsland      53461.0  145000   95000   35000   \n",
      "8     Lake Juliannton   Pennsylvania      64415.0   70000   95000   35000   \n",
      "10           Rosaberg       Tenessee      47743.0   45000  120000   55000   \n",
      "11      Norbertomouth    NorthDakota      31415.0  150000   10000  162000   \n",
      "14    Kathryneborough       Delaware      27933.0  150000  120000   70000   \n",
      "\n",
      "     Total  \n",
      "0   107000  \n",
      "1   175000  \n",
      "3   175000  \n",
      "4   317000  \n",
      "5   305000  \n",
      "6   252000  \n",
      "7   275000  \n",
      "8   200000  \n",
      "10  220000  \n",
      "11  322000  \n",
      "14  340000  \n"
     ]
    }
   ],
   "source": [
    "d2 = d.dropna()\n",
    "print(len(d))\n",
    "print(len(d2))\n",
    "print(d2)"
   ]
  },
  {
   "cell_type": "markdown",
   "metadata": {},
   "source": [
    "Determine which rows in `d` contain missing data.  There are several ways to do this using `Pandas` operations.  You can find\n",
    "the missing rows in the differences between d and d2.  Or you can use the `isnull()` and `any()` member functions in combination\n",
    "to create an index filter of those indexes that have any value that is missing.  Do this in the next cell, and remember to only\n",
    "use valid `Pandas` operations to find out the answer."
   ]
  },
  {
   "cell_type": "code",
   "execution_count": 146,
   "metadata": {},
   "outputs": [
    {
     "data": {
      "text/plain": [
       "True"
      ]
     },
     "execution_count": 146,
     "metadata": {},
     "output_type": "execute_result"
    }
   ],
   "source": [
    "d.isnull().values.any()"
   ]
  },
  {
   "cell_type": "code",
   "execution_count": null,
   "metadata": {},
   "outputs": [],
   "source": []
  }
 ],
 "metadata": {
  "kernelspec": {
   "display_name": "Python 3",
   "language": "python",
   "name": "python3"
  },
  "language_info": {
   "codemirror_mode": {
    "name": "ipython",
    "version": 3
   },
   "file_extension": ".py",
   "mimetype": "text/x-python",
   "name": "python",
   "nbconvert_exporter": "python",
   "pygments_lexer": "ipython3",
   "version": "3.7.3"
  },
  "latex_envs": {
   "LaTeX_envs_menu_present": true,
   "autoclose": true,
   "autocomplete": true,
   "bibliofile": "biblio.bib",
   "cite_by": "apalike",
   "current_citInitial": 1,
   "eqLabelWithNumbers": true,
   "eqNumInitial": 1,
   "hotkeys": {
    "equation": "Ctrl-E",
    "itemize": "Ctrl-I"
   },
   "labels_anchors": false,
   "latex_user_defs": false,
   "report_style_numbering": false,
   "user_envs_cfg": false
  },
  "toc": {
   "base_numbering": 1,
   "nav_menu": {},
   "number_sections": true,
   "sideBar": true,
   "skip_h1_title": false,
   "title_cell": "Table of Contents",
   "title_sidebar": "Contents",
   "toc_cell": false,
   "toc_position": {},
   "toc_section_display": true,
   "toc_window_display": false
  },
  "varInspector": {
   "cols": {
    "lenName": 16,
    "lenType": 16,
    "lenVar": 40
   },
   "kernels_config": {
    "python": {
     "delete_cmd_postfix": "",
     "delete_cmd_prefix": "del ",
     "library": "var_list.py",
     "varRefreshCmd": "print(var_dic_list())"
    },
    "r": {
     "delete_cmd_postfix": ") ",
     "delete_cmd_prefix": "rm(",
     "library": "var_list.r",
     "varRefreshCmd": "cat(var_dic_list()) "
    }
   },
   "types_to_exclude": [
    "module",
    "function",
    "builtin_function_or_method",
    "instance",
    "_Feature"
   ],
   "window_display": false
  }
 },
 "nbformat": 4,
 "nbformat_minor": 1
}
